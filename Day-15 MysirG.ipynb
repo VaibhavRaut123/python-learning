{
 "cells": [
  {
   "cell_type": "markdown",
   "id": "f893a4a3",
   "metadata": {},
   "source": [
    "### set in puthon"
   ]
  },
  {
   "cell_type": "markdown",
   "id": "2d67da44",
   "metadata": {},
   "source": [
    "### how to create set object"
   ]
  },
  {
   "cell_type": "code",
   "execution_count": 1,
   "id": "9630c103",
   "metadata": {},
   "outputs": [],
   "source": [
    "s1={1,5,8}"
   ]
  },
  {
   "cell_type": "code",
   "execution_count": 2,
   "id": "7af17c64",
   "metadata": {},
   "outputs": [
    {
     "data": {
      "text/plain": [
       "set"
      ]
     },
     "execution_count": 2,
     "metadata": {},
     "output_type": "execute_result"
    }
   ],
   "source": [
    "type(s1)"
   ]
  },
  {
   "cell_type": "code",
   "execution_count": 3,
   "id": "52b9d4b5",
   "metadata": {},
   "outputs": [
    {
     "data": {
      "text/plain": [
       "{1, 5, 8}"
      ]
     },
     "execution_count": 3,
     "metadata": {},
     "output_type": "execute_result"
    }
   ],
   "source": [
    "s1"
   ]
  },
  {
   "cell_type": "code",
   "execution_count": 4,
   "id": "96120dea",
   "metadata": {},
   "outputs": [],
   "source": [
    "s2={10,15,11}"
   ]
  },
  {
   "cell_type": "code",
   "execution_count": 6,
   "id": "b667fff4",
   "metadata": {},
   "outputs": [
    {
     "data": {
      "text/plain": [
       "set"
      ]
     },
     "execution_count": 6,
     "metadata": {},
     "output_type": "execute_result"
    }
   ],
   "source": [
    "type(s2)"
   ]
  },
  {
   "cell_type": "code",
   "execution_count": 7,
   "id": "69eee997",
   "metadata": {},
   "outputs": [
    {
     "data": {
      "text/plain": [
       "{10, 11, 15}"
      ]
     },
     "execution_count": 7,
     "metadata": {},
     "output_type": "execute_result"
    }
   ],
   "source": [
    "s2 # sequence or order is not preserved in set"
   ]
  },
  {
   "cell_type": "code",
   "execution_count": 8,
   "id": "66fa869a",
   "metadata": {},
   "outputs": [],
   "source": [
    "s3={10,2,8,10,10,8}"
   ]
  },
  {
   "cell_type": "code",
   "execution_count": 9,
   "id": "3557e6de",
   "metadata": {},
   "outputs": [
    {
     "data": {
      "text/plain": [
       "{2, 8, 10}"
      ]
     },
     "execution_count": 9,
     "metadata": {},
     "output_type": "execute_result"
    }
   ],
   "source": [
    "s3 #duplicate values doesnot stored in set"
   ]
  },
  {
   "cell_type": "code",
   "execution_count": 12,
   "id": "93dcb4bb",
   "metadata": {},
   "outputs": [],
   "source": [
    "s4={} # created dict class"
   ]
  },
  {
   "cell_type": "code",
   "execution_count": 13,
   "id": "f5da03df",
   "metadata": {},
   "outputs": [
    {
     "data": {
      "text/plain": [
       "dict"
      ]
     },
     "execution_count": 13,
     "metadata": {},
     "output_type": "execute_result"
    }
   ],
   "source": [
    "type(s4)"
   ]
  },
  {
   "cell_type": "code",
   "execution_count": 17,
   "id": "59d0bd45",
   "metadata": {},
   "outputs": [],
   "source": [
    "s4=set() # to create empty set class"
   ]
  },
  {
   "cell_type": "code",
   "execution_count": 18,
   "id": "0c0b6905",
   "metadata": {},
   "outputs": [
    {
     "data": {
      "text/plain": [
       "set"
      ]
     },
     "execution_count": 18,
     "metadata": {},
     "output_type": "execute_result"
    }
   ],
   "source": [
    "type(s4)"
   ]
  },
  {
   "cell_type": "code",
   "execution_count": 19,
   "id": "b937953a",
   "metadata": {},
   "outputs": [
    {
     "ename": "TypeError",
     "evalue": "set expected at most 1 argument, got 3",
     "output_type": "error",
     "traceback": [
      "\u001b[1;31m---------------------------------------------------------------------------\u001b[0m",
      "\u001b[1;31mTypeError\u001b[0m                                 Traceback (most recent call last)",
      "Input \u001b[1;32mIn [19]\u001b[0m, in \u001b[0;36m<cell line: 1>\u001b[1;34m()\u001b[0m\n\u001b[1;32m----> 1\u001b[0m s5\u001b[38;5;241m=\u001b[39m\u001b[38;5;28;43mset\u001b[39;49m\u001b[43m(\u001b[49m\u001b[38;5;241;43m10\u001b[39;49m\u001b[43m,\u001b[49m\u001b[38;5;241;43m20\u001b[39;49m\u001b[43m,\u001b[49m\u001b[38;5;241;43m30\u001b[39;49m\u001b[43m)\u001b[49m\n",
      "\u001b[1;31mTypeError\u001b[0m: set expected at most 1 argument, got 3"
     ]
    }
   ],
   "source": [
    "s5=set(10,20,30)"
   ]
  },
  {
   "cell_type": "code",
   "execution_count": 20,
   "id": "ed8c5cdd",
   "metadata": {},
   "outputs": [
    {
     "ename": "TypeError",
     "evalue": "'int' object is not iterable",
     "output_type": "error",
     "traceback": [
      "\u001b[1;31m---------------------------------------------------------------------------\u001b[0m",
      "\u001b[1;31mTypeError\u001b[0m                                 Traceback (most recent call last)",
      "Input \u001b[1;32mIn [20]\u001b[0m, in \u001b[0;36m<cell line: 1>\u001b[1;34m()\u001b[0m\n\u001b[1;32m----> 1\u001b[0m s5\u001b[38;5;241m=\u001b[39m\u001b[38;5;28;43mset\u001b[39;49m\u001b[43m(\u001b[49m\u001b[38;5;241;43m20\u001b[39;49m\u001b[43m)\u001b[49m\n",
      "\u001b[1;31mTypeError\u001b[0m: 'int' object is not iterable"
     ]
    }
   ],
   "source": [
    "s5=set(20)"
   ]
  },
  {
   "cell_type": "code",
   "execution_count": 21,
   "id": "3514ac73",
   "metadata": {},
   "outputs": [],
   "source": [
    "s5=set(\"mysirg\")"
   ]
  },
  {
   "cell_type": "code",
   "execution_count": 22,
   "id": "2665f0f7",
   "metadata": {},
   "outputs": [
    {
     "data": {
      "text/plain": [
       "{'g', 'i', 'm', 'r', 's', 'y'}"
      ]
     },
     "execution_count": 22,
     "metadata": {},
     "output_type": "execute_result"
    }
   ],
   "source": [
    "s5"
   ]
  },
  {
   "cell_type": "code",
   "execution_count": 23,
   "id": "7343944d",
   "metadata": {},
   "outputs": [],
   "source": [
    "s6=set([10,20,52,44])"
   ]
  },
  {
   "cell_type": "code",
   "execution_count": 24,
   "id": "afa0a2fd",
   "metadata": {},
   "outputs": [
    {
     "data": {
      "text/plain": [
       "{10, 20, 44, 52}"
      ]
     },
     "execution_count": 24,
     "metadata": {},
     "output_type": "execute_result"
    }
   ],
   "source": [
    "s6"
   ]
  },
  {
   "cell_type": "code",
   "execution_count": 26,
   "id": "c7bfb122",
   "metadata": {},
   "outputs": [],
   "source": [
    "# write a python script to remove duplicate elements from list\n",
    "l1=[20,10,50,20,30,50,20,10]\n",
    "s7=set(l1)"
   ]
  },
  {
   "cell_type": "code",
   "execution_count": 27,
   "id": "c8efc516",
   "metadata": {},
   "outputs": [
    {
     "data": {
      "text/plain": [
       "{10, 20, 30, 50}"
      ]
     },
     "execution_count": 27,
     "metadata": {},
     "output_type": "execute_result"
    }
   ],
   "source": [
    "s7"
   ]
  },
  {
   "cell_type": "code",
   "execution_count": 29,
   "id": "e1262483",
   "metadata": {},
   "outputs": [
    {
     "data": {
      "text/plain": [
       "set"
      ]
     },
     "execution_count": 29,
     "metadata": {},
     "output_type": "execute_result"
    }
   ],
   "source": [
    "         type(s7)"
   ]
  },
  {
   "cell_type": "code",
   "execution_count": 30,
   "id": "149b37b1",
   "metadata": {},
   "outputs": [],
   "source": [
    "l2=list[set(l1)]"
   ]
  },
  {
   "cell_type": "code",
   "execution_count": 31,
   "id": "bf5daf4f",
   "metadata": {},
   "outputs": [
    {
     "data": {
      "text/plain": [
       "list[{10, 20, 50, 30}]"
      ]
     },
     "execution_count": 31,
     "metadata": {},
     "output_type": "execute_result"
    }
   ],
   "source": [
    "l2"
   ]
  },
  {
   "cell_type": "code",
   "execution_count": 32,
   "id": "d60a0228",
   "metadata": {},
   "outputs": [
    {
     "data": {
      "text/plain": [
       "types.GenericAlias"
      ]
     },
     "execution_count": 32,
     "metadata": {},
     "output_type": "execute_result"
    }
   ],
   "source": [
    "type(l2)"
   ]
  },
  {
   "cell_type": "code",
   "execution_count": 33,
   "id": "edfbf2a4",
   "metadata": {},
   "outputs": [],
   "source": [
    "l3=list(set(l1))"
   ]
  },
  {
   "cell_type": "code",
   "execution_count": 36,
   "id": "48cfc285",
   "metadata": {},
   "outputs": [
    {
     "data": {
      "text/plain": [
       "[10, 20, 50, 30]"
      ]
     },
     "execution_count": 36,
     "metadata": {},
     "output_type": "execute_result"
    }
   ],
   "source": [
    "l3"
   ]
  },
  {
   "cell_type": "code",
   "execution_count": 37,
   "id": "9c2aa1f8",
   "metadata": {},
   "outputs": [
    {
     "data": {
      "text/plain": [
       "list"
      ]
     },
     "execution_count": 37,
     "metadata": {},
     "output_type": "execute_result"
    }
   ],
   "source": [
    "type(l3)"
   ]
  },
  {
   "cell_type": "code",
   "execution_count": 38,
   "id": "56c22633",
   "metadata": {},
   "outputs": [
    {
     "name": "stdout",
     "output_type": "stream",
     "text": [
      "enter a number separeted by comma = 10,20,33,44,10,20,44,55,33,5,55,10\n"
     ]
    }
   ],
   "source": [
    "l1=list(set((int(x) for x in input(\"enter a number separeted by comma = \").split(','))))"
   ]
  },
  {
   "cell_type": "code",
   "execution_count": 39,
   "id": "a0a29080",
   "metadata": {},
   "outputs": [
    {
     "data": {
      "text/plain": [
       "[33, 5, 10, 44, 20, 55]"
      ]
     },
     "execution_count": 39,
     "metadata": {},
     "output_type": "execute_result"
    }
   ],
   "source": [
    "l1"
   ]
  },
  {
   "cell_type": "markdown",
   "id": "ad3333fc",
   "metadata": {},
   "source": [
    "### how to access set element"
   ]
  },
  {
   "cell_type": "code",
   "execution_count": 40,
   "id": "c88bfe63",
   "metadata": {},
   "outputs": [
    {
     "data": {
      "text/plain": [
       "{1, 5, 8}"
      ]
     },
     "execution_count": 40,
     "metadata": {},
     "output_type": "execute_result"
    }
   ],
   "source": [
    "s1"
   ]
  },
  {
   "cell_type": "code",
   "execution_count": 41,
   "id": "1f9beeb0",
   "metadata": {},
   "outputs": [
    {
     "data": {
      "text/plain": [
       "{10, 11, 15}"
      ]
     },
     "execution_count": 41,
     "metadata": {},
     "output_type": "execute_result"
    }
   ],
   "source": [
    "s2"
   ]
  },
  {
   "cell_type": "code",
   "execution_count": 42,
   "id": "03353fd7",
   "metadata": {},
   "outputs": [
    {
     "data": {
      "text/plain": [
       "{2, 8, 10}"
      ]
     },
     "execution_count": 42,
     "metadata": {},
     "output_type": "execute_result"
    }
   ],
   "source": [
    "s3"
   ]
  },
  {
   "cell_type": "code",
   "execution_count": 43,
   "id": "1ec67314",
   "metadata": {},
   "outputs": [
    {
     "data": {
      "text/plain": [
       "set()"
      ]
     },
     "execution_count": 43,
     "metadata": {},
     "output_type": "execute_result"
    }
   ],
   "source": [
    "s4"
   ]
  },
  {
   "cell_type": "code",
   "execution_count": 44,
   "id": "25144661",
   "metadata": {},
   "outputs": [
    {
     "data": {
      "text/plain": [
       "{'g', 'i', 'm', 'r', 's', 'y'}"
      ]
     },
     "execution_count": 44,
     "metadata": {},
     "output_type": "execute_result"
    }
   ],
   "source": [
    "s5"
   ]
  },
  {
   "cell_type": "code",
   "execution_count": 46,
   "id": "a3c1600e",
   "metadata": {},
   "outputs": [
    {
     "name": "stdout",
     "output_type": "stream",
     "text": [
      "8\n",
      "1\n",
      "5\n"
     ]
    }
   ],
   "source": [
    "for e in s1:\n",
    "    print(e)"
   ]
  },
  {
   "cell_type": "code",
   "execution_count": 48,
   "id": "90d1aa3b",
   "metadata": {},
   "outputs": [
    {
     "name": "stdout",
     "output_type": "stream",
     "text": [
      "{'i', 'm', 'g', 'r', 'y', 's'}\n",
      "{'i', 'm', 'g', 'r', 'y', 's'}\n",
      "{'i', 'm', 'g', 'r', 'y', 's'}\n",
      "{'i', 'm', 'g', 'r', 'y', 's'}\n",
      "{'i', 'm', 'g', 'r', 'y', 's'}\n",
      "{'i', 'm', 'g', 'r', 'y', 's'}\n"
     ]
    }
   ],
   "source": [
    "for e in s5:\n",
    "    print(s5)"
   ]
  },
  {
   "cell_type": "code",
   "execution_count": 49,
   "id": "dc435c45",
   "metadata": {},
   "outputs": [
    {
     "name": "stdout",
     "output_type": "stream",
     "text": [
      "i\n",
      "m\n",
      "g\n",
      "r\n",
      "y\n",
      "s\n"
     ]
    }
   ],
   "source": [
    "for e in s5:\n",
    "    print(e)"
   ]
  },
  {
   "cell_type": "markdown",
   "id": "8c63157e",
   "metadata": {},
   "source": [
    "### built in methods"
   ]
  },
  {
   "cell_type": "code",
   "execution_count": 54,
   "id": "6c4027ca",
   "metadata": {
    "scrolled": true
   },
   "outputs": [
    {
     "data": {
      "text/plain": [
       "'y'"
      ]
     },
     "execution_count": 54,
     "metadata": {},
     "output_type": "execute_result"
    }
   ],
   "source": [
    "max(s5)"
   ]
  },
  {
   "cell_type": "code",
   "execution_count": 55,
   "id": "c421dcc5",
   "metadata": {},
   "outputs": [
    {
     "data": {
      "text/plain": [
       "'g'"
      ]
     },
     "execution_count": 55,
     "metadata": {},
     "output_type": "execute_result"
    }
   ],
   "source": [
    "min(s5)"
   ]
  },
  {
   "cell_type": "code",
   "execution_count": 56,
   "id": "e263fce0",
   "metadata": {},
   "outputs": [
    {
     "data": {
      "text/plain": [
       "6"
      ]
     },
     "execution_count": 56,
     "metadata": {},
     "output_type": "execute_result"
    }
   ],
   "source": [
    "len(s5)"
   ]
  },
  {
   "cell_type": "code",
   "execution_count": 57,
   "id": "aabf6c31",
   "metadata": {},
   "outputs": [
    {
     "data": {
      "text/plain": [
       "['g', 'i', 'm', 'r', 's', 'y']"
      ]
     },
     "execution_count": 57,
     "metadata": {},
     "output_type": "execute_result"
    }
   ],
   "source": [
    "sorted(s5)"
   ]
  },
  {
   "cell_type": "markdown",
   "id": "bd1db406",
   "metadata": {},
   "source": [
    "### concatenation and repitation operator"
   ]
  },
  {
   "cell_type": "code",
   "execution_count": 58,
   "id": "698f9e0e",
   "metadata": {},
   "outputs": [],
   "source": [
    "# set + set not supported\n",
    "#set*3 not supported"
   ]
  },
  {
   "cell_type": "markdown",
   "id": "c6cdc1b5",
   "metadata": {},
   "source": [
    "### comparision operator"
   ]
  },
  {
   "cell_type": "code",
   "execution_count": 59,
   "id": "8a4d5b54",
   "metadata": {},
   "outputs": [],
   "source": [
    "s1={10,20}"
   ]
  },
  {
   "cell_type": "code",
   "execution_count": 60,
   "id": "64ec2827",
   "metadata": {},
   "outputs": [],
   "source": [
    "s2={20,10}"
   ]
  },
  {
   "cell_type": "code",
   "execution_count": 61,
   "id": "9eb2faa3",
   "metadata": {},
   "outputs": [
    {
     "name": "stdout",
     "output_type": "stream",
     "text": [
      "{10, 20} {10, 20}\n"
     ]
    }
   ],
   "source": [
    "print(s1,s2)"
   ]
  },
  {
   "cell_type": "code",
   "execution_count": 63,
   "id": "e4b69864",
   "metadata": {},
   "outputs": [
    {
     "data": {
      "text/plain": [
       "True"
      ]
     },
     "execution_count": 63,
     "metadata": {},
     "output_type": "execute_result"
    }
   ],
   "source": [
    "s1==s2"
   ]
  },
  {
   "cell_type": "code",
   "execution_count": 64,
   "id": "166acfee",
   "metadata": {},
   "outputs": [],
   "source": [
    "s1={10,20,30}"
   ]
  },
  {
   "cell_type": "code",
   "execution_count": 65,
   "id": "210e5427",
   "metadata": {},
   "outputs": [],
   "source": [
    "s2={5,10,20}"
   ]
  },
  {
   "cell_type": "code",
   "execution_count": 66,
   "id": "d6af632c",
   "metadata": {},
   "outputs": [
    {
     "data": {
      "text/plain": [
       "False"
      ]
     },
     "execution_count": 66,
     "metadata": {},
     "output_type": "execute_result"
    }
   ],
   "source": [
    "s1>s2"
   ]
  },
  {
   "cell_type": "code",
   "execution_count": 67,
   "id": "7d952572",
   "metadata": {},
   "outputs": [
    {
     "name": "stdout",
     "output_type": "stream",
     "text": [
      "{10, 20, 30} {10, 20, 5}\n"
     ]
    }
   ],
   "source": [
    "print(s1,s2)"
   ]
  },
  {
   "cell_type": "code",
   "execution_count": 68,
   "id": "c98218dd",
   "metadata": {},
   "outputs": [
    {
     "data": {
      "text/plain": [
       "False"
      ]
     },
     "execution_count": 68,
     "metadata": {},
     "output_type": "execute_result"
    }
   ],
   "source": [
    "s2>s1"
   ]
  },
  {
   "cell_type": "code",
   "execution_count": 69,
   "id": "4ebadc0e",
   "metadata": {},
   "outputs": [
    {
     "data": {
      "text/plain": [
       "False"
      ]
     },
     "execution_count": 69,
     "metadata": {},
     "output_type": "execute_result"
    }
   ],
   "source": [
    "s1==s2"
   ]
  },
  {
   "cell_type": "code",
   "execution_count": 70,
   "id": "5f08abd6",
   "metadata": {},
   "outputs": [
    {
     "data": {
      "text/plain": [
       "True"
      ]
     },
     "execution_count": 70,
     "metadata": {},
     "output_type": "execute_result"
    }
   ],
   "source": [
    "s1!=s2"
   ]
  },
  {
   "cell_type": "markdown",
   "id": "8976c95b",
   "metadata": {},
   "source": [
    "### set object method"
   ]
  },
  {
   "cell_type": "code",
   "execution_count": 72,
   "id": "083d80d5",
   "metadata": {},
   "outputs": [
    {
     "data": {
      "text/plain": [
       "set()"
      ]
     },
     "execution_count": 72,
     "metadata": {},
     "output_type": "execute_result"
    }
   ],
   "source": [
    "s4"
   ]
  },
  {
   "cell_type": "code",
   "execution_count": 73,
   "id": "eeeec331",
   "metadata": {},
   "outputs": [
    {
     "data": {
      "text/plain": [
       "{10, 20, 30}"
      ]
     },
     "execution_count": 73,
     "metadata": {},
     "output_type": "execute_result"
    }
   ],
   "source": [
    "s1"
   ]
  },
  {
   "cell_type": "code",
   "execution_count": 74,
   "id": "6b10cf8a",
   "metadata": {},
   "outputs": [],
   "source": [
    "s1.add(40)"
   ]
  },
  {
   "cell_type": "code",
   "execution_count": 75,
   "id": "5b69b8e3",
   "metadata": {},
   "outputs": [
    {
     "data": {
      "text/plain": [
       "{10, 20, 30, 40}"
      ]
     },
     "execution_count": 75,
     "metadata": {},
     "output_type": "execute_result"
    }
   ],
   "source": [
    "s1"
   ]
  },
  {
   "cell_type": "code",
   "execution_count": 76,
   "id": "d3fa6073",
   "metadata": {},
   "outputs": [
    {
     "ename": "TypeError",
     "evalue": "set.add() takes exactly one argument (2 given)",
     "output_type": "error",
     "traceback": [
      "\u001b[1;31m---------------------------------------------------------------------------\u001b[0m",
      "\u001b[1;31mTypeError\u001b[0m                                 Traceback (most recent call last)",
      "Input \u001b[1;32mIn [76]\u001b[0m, in \u001b[0;36m<cell line: 1>\u001b[1;34m()\u001b[0m\n\u001b[1;32m----> 1\u001b[0m \u001b[43ms1\u001b[49m\u001b[38;5;241;43m.\u001b[39;49m\u001b[43madd\u001b[49m\u001b[43m(\u001b[49m\u001b[38;5;241;43m11\u001b[39;49m\u001b[43m,\u001b[49m\u001b[38;5;241;43m22\u001b[39;49m\u001b[43m)\u001b[49m\n",
      "\u001b[1;31mTypeError\u001b[0m: set.add() takes exactly one argument (2 given)"
     ]
    }
   ],
   "source": [
    "s1.add(11,22) #set.add() takes exactly one argument"
   ]
  },
  {
   "cell_type": "code",
   "execution_count": 77,
   "id": "8fb0d9f4",
   "metadata": {},
   "outputs": [],
   "source": [
    "s1.add((11,22,33)) #one tuple object added"
   ]
  },
  {
   "cell_type": "code",
   "execution_count": 78,
   "id": "37b95d97",
   "metadata": {},
   "outputs": [
    {
     "data": {
      "text/plain": [
       "{(11, 22, 33), 10, 20, 30, 40}"
      ]
     },
     "execution_count": 78,
     "metadata": {},
     "output_type": "execute_result"
    }
   ],
   "source": [
    "s1"
   ]
  },
  {
   "cell_type": "code",
   "execution_count": 79,
   "id": "b0a1568c",
   "metadata": {},
   "outputs": [
    {
     "ename": "TypeError",
     "evalue": "'int' object is not iterable",
     "output_type": "error",
     "traceback": [
      "\u001b[1;31m---------------------------------------------------------------------------\u001b[0m",
      "\u001b[1;31mTypeError\u001b[0m                                 Traceback (most recent call last)",
      "Input \u001b[1;32mIn [79]\u001b[0m, in \u001b[0;36m<cell line: 1>\u001b[1;34m()\u001b[0m\n\u001b[1;32m----> 1\u001b[0m \u001b[43ms1\u001b[49m\u001b[38;5;241;43m.\u001b[39;49m\u001b[43mupdate\u001b[49m\u001b[43m(\u001b[49m\u001b[38;5;241;43m44\u001b[39;49m\u001b[43m)\u001b[49m\n",
      "\u001b[1;31mTypeError\u001b[0m: 'int' object is not iterable"
     ]
    }
   ],
   "source": [
    "s1.update(44) # by using set.update() we can add only iterable object"
   ]
  },
  {
   "cell_type": "code",
   "execution_count": 80,
   "id": "77cb47cb",
   "metadata": {},
   "outputs": [],
   "source": [
    "s1.update(\"mysirg\")"
   ]
  },
  {
   "cell_type": "code",
   "execution_count": 81,
   "id": "33e8bba3",
   "metadata": {},
   "outputs": [
    {
     "data": {
      "text/plain": [
       "{(11, 22, 33), 10, 20, 30, 40, 'g', 'i', 'm', 'r', 's', 'y'}"
      ]
     },
     "execution_count": 81,
     "metadata": {},
     "output_type": "execute_result"
    }
   ],
   "source": [
    "s1"
   ]
  },
  {
   "cell_type": "code",
   "execution_count": 82,
   "id": "cf623e95",
   "metadata": {},
   "outputs": [],
   "source": [
    "s1.add(\"v\")"
   ]
  },
  {
   "cell_type": "code",
   "execution_count": 83,
   "id": "ee286893",
   "metadata": {},
   "outputs": [],
   "source": [
    "s1.add(\"sau\")"
   ]
  },
  {
   "cell_type": "code",
   "execution_count": 84,
   "id": "b094a00f",
   "metadata": {},
   "outputs": [
    {
     "data": {
      "text/plain": [
       "{(11, 22, 33), 10, 20, 30, 40, 'g', 'i', 'm', 'r', 's', 'sau', 'v', 'y'}"
      ]
     },
     "execution_count": 84,
     "metadata": {},
     "output_type": "execute_result"
    }
   ],
   "source": [
    "s1"
   ]
  },
  {
   "cell_type": "code",
   "execution_count": 85,
   "id": "695c9a64",
   "metadata": {},
   "outputs": [
    {
     "ename": "SyntaxError",
     "evalue": "invalid syntax (3917225715.py, line 1)",
     "output_type": "error",
     "traceback": [
      "\u001b[1;36m  Input \u001b[1;32mIn [85]\u001b[1;36m\u001b[0m\n\u001b[1;33m    1s={10,20}\u001b[0m\n\u001b[1;37m     ^\u001b[0m\n\u001b[1;31mSyntaxError\u001b[0m\u001b[1;31m:\u001b[0m invalid syntax\n"
     ]
    }
   ],
   "source": [
    "1s={10,20}"
   ]
  },
  {
   "cell_type": "code",
   "execution_count": 86,
   "id": "f450c183",
   "metadata": {},
   "outputs": [],
   "source": [
    "s1={10,20}"
   ]
  },
  {
   "cell_type": "code",
   "execution_count": 87,
   "id": "a09910a9",
   "metadata": {},
   "outputs": [],
   "source": [
    "s1.add((30,40)) # set.add() this add whole iterable in set"
   ]
  },
  {
   "cell_type": "code",
   "execution_count": 88,
   "id": "d0e1a23c",
   "metadata": {},
   "outputs": [
    {
     "data": {
      "text/plain": [
       "{(30, 40), 10, 20}"
      ]
     },
     "execution_count": 88,
     "metadata": {},
     "output_type": "execute_result"
    }
   ],
   "source": [
    "s1"
   ]
  },
  {
   "cell_type": "code",
   "execution_count": 89,
   "id": "38fd1e73",
   "metadata": {},
   "outputs": [],
   "source": [
    "s1.update((30,40)) # set.update()this add elements of iterable in set"
   ]
  },
  {
   "cell_type": "code",
   "execution_count": 90,
   "id": "d922a9ce",
   "metadata": {},
   "outputs": [
    {
     "data": {
      "text/plain": [
       "{(30, 40), 10, 20, 30, 40}"
      ]
     },
     "execution_count": 90,
     "metadata": {},
     "output_type": "execute_result"
    }
   ],
   "source": [
    "s1"
   ]
  },
  {
   "cell_type": "markdown",
   "id": "27bd13c4",
   "metadata": {},
   "source": [
    "### set comprehension"
   ]
  },
  {
   "cell_type": "code",
   "execution_count": 95,
   "id": "f462e279",
   "metadata": {},
   "outputs": [
    {
     "name": "stdout",
     "output_type": "stream",
     "text": [
      "enter a string= mysirg\n"
     ]
    }
   ],
   "source": [
    "# s1={expression for e in object}\n",
    "s=input(\"enter a string= \" )\n",
    "s1={e for e in s if e in \"aeiou\"}"
   ]
  },
  {
   "cell_type": "code",
   "execution_count": 96,
   "id": "271457ea",
   "metadata": {},
   "outputs": [
    {
     "data": {
      "text/plain": [
       "{'i'}"
      ]
     },
     "execution_count": 96,
     "metadata": {},
     "output_type": "execute_result"
    }
   ],
   "source": [
    "s1"
   ]
  },
  {
   "cell_type": "markdown",
   "id": "a6428e8c",
   "metadata": {},
   "source": [
    "### set object method"
   ]
  },
  {
   "cell_type": "code",
   "execution_count": 116,
   "id": "2e4decec",
   "metadata": {},
   "outputs": [],
   "source": [
    "s4={(11, 22, 33), 11, 20, 22, 30, 44, 60,10}\n",
    "s4.remove(10)"
   ]
  },
  {
   "cell_type": "code",
   "execution_count": 117,
   "id": "2c90e41f",
   "metadata": {},
   "outputs": [
    {
     "data": {
      "text/plain": [
       "{(11, 22, 33), 11, 20, 22, 30, 44, 60}"
      ]
     },
     "execution_count": 117,
     "metadata": {},
     "output_type": "execute_result"
    }
   ],
   "source": [
    "s4"
   ]
  },
  {
   "cell_type": "code",
   "execution_count": 118,
   "id": "7c303260",
   "metadata": {},
   "outputs": [],
   "source": [
    "s4.discard(11)"
   ]
  },
  {
   "cell_type": "code",
   "execution_count": 119,
   "id": "09876d56",
   "metadata": {},
   "outputs": [
    {
     "data": {
      "text/plain": [
       "{(11, 22, 33), 20, 22, 30, 44, 60}"
      ]
     },
     "execution_count": 119,
     "metadata": {},
     "output_type": "execute_result"
    }
   ],
   "source": [
    "s4"
   ]
  },
  {
   "cell_type": "code",
   "execution_count": 120,
   "id": "2558396e",
   "metadata": {},
   "outputs": [
    {
     "ename": "KeyError",
     "evalue": "100",
     "output_type": "error",
     "traceback": [
      "\u001b[1;31m---------------------------------------------------------------------------\u001b[0m",
      "\u001b[1;31mKeyError\u001b[0m                                  Traceback (most recent call last)",
      "Input \u001b[1;32mIn [120]\u001b[0m, in \u001b[0;36m<cell line: 1>\u001b[1;34m()\u001b[0m\n\u001b[1;32m----> 1\u001b[0m \u001b[43ms4\u001b[49m\u001b[38;5;241;43m.\u001b[39;49m\u001b[43mremove\u001b[49m\u001b[43m(\u001b[49m\u001b[38;5;241;43m100\u001b[39;49m\u001b[43m)\u001b[49m\n",
      "\u001b[1;31mKeyError\u001b[0m: 100"
     ]
    }
   ],
   "source": [
    "s4.remove(100)"
   ]
  },
  {
   "cell_type": "code",
   "execution_count": 121,
   "id": "ff8699a1",
   "metadata": {},
   "outputs": [],
   "source": [
    "s4.discard(100)"
   ]
  },
  {
   "cell_type": "code",
   "execution_count": 122,
   "id": "1c2011d4",
   "metadata": {
    "scrolled": true
   },
   "outputs": [
    {
     "data": {
      "text/plain": [
       "{(11, 22, 33), 20, 22, 30, 44, 60}"
      ]
     },
     "execution_count": 122,
     "metadata": {},
     "output_type": "execute_result"
    }
   ],
   "source": [
    "s4"
   ]
  },
  {
   "cell_type": "code",
   "execution_count": 123,
   "id": "cae34085",
   "metadata": {},
   "outputs": [
    {
     "data": {
      "text/plain": [
       "44"
      ]
     },
     "execution_count": 123,
     "metadata": {},
     "output_type": "execute_result"
    }
   ],
   "source": [
    "s4.pop() #set.pop() remove elements from set randomly"
   ]
  },
  {
   "cell_type": "code",
   "execution_count": 124,
   "id": "274c432c",
   "metadata": {},
   "outputs": [
    {
     "data": {
      "text/plain": [
       "(11, 22, 33)"
      ]
     },
     "execution_count": 124,
     "metadata": {},
     "output_type": "execute_result"
    }
   ],
   "source": [
    "s4.pop()"
   ]
  },
  {
   "cell_type": "code",
   "execution_count": 125,
   "id": "253314c6",
   "metadata": {},
   "outputs": [
    {
     "data": {
      "text/plain": [
       "{20, 22, 30, 60}"
      ]
     },
     "execution_count": 125,
     "metadata": {},
     "output_type": "execute_result"
    }
   ],
   "source": [
    "s4"
   ]
  },
  {
   "cell_type": "code",
   "execution_count": 126,
   "id": "ffae914f",
   "metadata": {},
   "outputs": [],
   "source": [
    "s4.clear() #create empty set"
   ]
  },
  {
   "cell_type": "code",
   "execution_count": 127,
   "id": "7f36dcad",
   "metadata": {},
   "outputs": [
    {
     "data": {
      "text/plain": [
       "set()"
      ]
     },
     "execution_count": 127,
     "metadata": {},
     "output_type": "execute_result"
    }
   ],
   "source": [
    "s4"
   ]
  },
  {
   "cell_type": "code",
   "execution_count": 128,
   "id": "394f4726",
   "metadata": {},
   "outputs": [],
   "source": [
    "s1={1,8,5}\n",
    "s2={1,8,15,16}"
   ]
  },
  {
   "cell_type": "code",
   "execution_count": 129,
   "id": "132abeb6",
   "metadata": {},
   "outputs": [
    {
     "data": {
      "text/plain": [
       "{1, 5, 8, 15, 16}"
      ]
     },
     "execution_count": 129,
     "metadata": {},
     "output_type": "execute_result"
    }
   ],
   "source": [
    "s1.union(s2)"
   ]
  },
  {
   "cell_type": "code",
   "execution_count": 130,
   "id": "b4fb72ea",
   "metadata": {},
   "outputs": [
    {
     "data": {
      "text/plain": [
       "{1, 8}"
      ]
     },
     "execution_count": 130,
     "metadata": {},
     "output_type": "execute_result"
    }
   ],
   "source": [
    "s1.intersection(s2)"
   ]
  },
  {
   "cell_type": "code",
   "execution_count": 131,
   "id": "ca6fc620",
   "metadata": {},
   "outputs": [],
   "source": [
    "s3={1,10,8,12,5,14}"
   ]
  },
  {
   "cell_type": "code",
   "execution_count": 132,
   "id": "2597cde9",
   "metadata": {},
   "outputs": [
    {
     "data": {
      "text/plain": [
       "True"
      ]
     },
     "execution_count": 132,
     "metadata": {},
     "output_type": "execute_result"
    }
   ],
   "source": [
    "s1.issubset(s3)"
   ]
  },
  {
   "cell_type": "code",
   "execution_count": 133,
   "id": "b664e471",
   "metadata": {},
   "outputs": [
    {
     "data": {
      "text/plain": [
       "False"
      ]
     },
     "execution_count": 133,
     "metadata": {},
     "output_type": "execute_result"
    }
   ],
   "source": [
    "s4.issuperset(s1)"
   ]
  },
  {
   "cell_type": "code",
   "execution_count": null,
   "id": "c8da1da7",
   "metadata": {},
   "outputs": [],
   "source": []
  }
 ],
 "metadata": {
  "kernelspec": {
   "display_name": "Python 3 (ipykernel)",
   "language": "python",
   "name": "python3"
  },
  "language_info": {
   "codemirror_mode": {
    "name": "ipython",
    "version": 3
   },
   "file_extension": ".py",
   "mimetype": "text/x-python",
   "name": "python",
   "nbconvert_exporter": "python",
   "pygments_lexer": "ipython3",
   "version": "3.9.12"
  }
 },
 "nbformat": 4,
 "nbformat_minor": 5
}
