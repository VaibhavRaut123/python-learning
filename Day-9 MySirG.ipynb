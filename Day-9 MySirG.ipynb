{
 "cells": [
  {
   "cell_type": "markdown",
   "id": "722398c8",
   "metadata": {},
   "source": [
    "### LIST\n",
    "#### packing and unpacking"
   ]
  },
  {
   "cell_type": "code",
   "execution_count": 1,
   "id": "7acf3a17",
   "metadata": {},
   "outputs": [],
   "source": [
    "l1=[20,50,30]\n",
    "a,b,c=l1 #unpacking"
   ]
  },
  {
   "cell_type": "code",
   "execution_count": 2,
   "id": "5686aae9",
   "metadata": {},
   "outputs": [
    {
     "name": "stdout",
     "output_type": "stream",
     "text": [
      "20\n"
     ]
    }
   ],
   "source": [
    "print(a)"
   ]
  },
  {
   "cell_type": "code",
   "execution_count": 3,
   "id": "d68847e3",
   "metadata": {},
   "outputs": [
    {
     "name": "stdout",
     "output_type": "stream",
     "text": [
      "20 30 50\n"
     ]
    }
   ],
   "source": [
    "print(a,c,b)"
   ]
  },
  {
   "cell_type": "code",
   "execution_count": 4,
   "id": "707598a4",
   "metadata": {},
   "outputs": [],
   "source": [
    "a=5\n",
    "b=6\n",
    "c=10\n",
    "l2=[a,b,c] #packing"
   ]
  },
  {
   "cell_type": "code",
   "execution_count": 5,
   "id": "e081f5c6",
   "metadata": {},
   "outputs": [
    {
     "name": "stdout",
     "output_type": "stream",
     "text": [
      "[5, 6, 10]\n"
     ]
    }
   ],
   "source": [
    "print(l2)"
   ]
  },
  {
   "cell_type": "markdown",
   "id": "cfd6f02e",
   "metadata": {},
   "source": [
    "### built in methods"
   ]
  },
  {
   "cell_type": "code",
   "execution_count": 6,
   "id": "6454d042",
   "metadata": {},
   "outputs": [
    {
     "data": {
      "text/plain": [
       "10"
      ]
     },
     "execution_count": 6,
     "metadata": {},
     "output_type": "execute_result"
    }
   ],
   "source": [
    "l1=[10,20,30,40,50,60,70,100,90,80]\n",
    "len(l1)"
   ]
  },
  {
   "cell_type": "code",
   "execution_count": 7,
   "id": "f07edd9b",
   "metadata": {},
   "outputs": [
    {
     "data": {
      "text/plain": [
       "10"
      ]
     },
     "execution_count": 7,
     "metadata": {},
     "output_type": "execute_result"
    }
   ],
   "source": [
    "min(l1) #doesn't need to write import statement"
   ]
  },
  {
   "cell_type": "code",
   "execution_count": 8,
   "id": "4d91f6a5",
   "metadata": {},
   "outputs": [
    {
     "data": {
      "text/plain": [
       "100"
      ]
     },
     "execution_count": 8,
     "metadata": {},
     "output_type": "execute_result"
    }
   ],
   "source": [
    "max(l1)"
   ]
  },
  {
   "cell_type": "code",
   "execution_count": 9,
   "id": "f434ee59",
   "metadata": {},
   "outputs": [
    {
     "data": {
      "text/plain": [
       "550"
      ]
     },
     "execution_count": 9,
     "metadata": {},
     "output_type": "execute_result"
    }
   ],
   "source": [
    "sum(l1)"
   ]
  },
  {
   "cell_type": "code",
   "execution_count": 10,
   "id": "623a0528",
   "metadata": {},
   "outputs": [
    {
     "data": {
      "text/plain": [
       "[10, 20, 30, 40, 50, 60, 70, 80, 90, 100]"
      ]
     },
     "execution_count": 10,
     "metadata": {},
     "output_type": "execute_result"
    }
   ],
   "source": [
    "sorted(l1)"
   ]
  },
  {
   "cell_type": "code",
   "execution_count": 12,
   "id": "436e2834",
   "metadata": {},
   "outputs": [],
   "source": [
    "l2=[10,4.5,3+4j]"
   ]
  },
  {
   "cell_type": "code",
   "execution_count": 13,
   "id": "f0769e56",
   "metadata": {},
   "outputs": [
    {
     "data": {
      "text/plain": [
       "3"
      ]
     },
     "execution_count": 13,
     "metadata": {},
     "output_type": "execute_result"
    }
   ],
   "source": [
    "len(l2)"
   ]
  },
  {
   "cell_type": "code",
   "execution_count": 14,
   "id": "32b4c683",
   "metadata": {},
   "outputs": [
    {
     "data": {
      "text/plain": [
       "(17.5+4j)"
      ]
     },
     "execution_count": 14,
     "metadata": {},
     "output_type": "execute_result"
    }
   ],
   "source": [
    "sum(l2)"
   ]
  },
  {
   "cell_type": "code",
   "execution_count": 15,
   "id": "211c784e",
   "metadata": {},
   "outputs": [
    {
     "ename": "TypeError",
     "evalue": "'>' not supported between instances of 'complex' and 'int'",
     "output_type": "error",
     "traceback": [
      "\u001b[1;31m---------------------------------------------------------------------------\u001b[0m",
      "\u001b[1;31mTypeError\u001b[0m                                 Traceback (most recent call last)",
      "Input \u001b[1;32mIn [15]\u001b[0m, in \u001b[0;36m<cell line: 1>\u001b[1;34m()\u001b[0m\n\u001b[1;32m----> 1\u001b[0m \u001b[38;5;28;43mmax\u001b[39;49m\u001b[43m(\u001b[49m\u001b[43ml2\u001b[49m\u001b[43m)\u001b[49m\n",
      "\u001b[1;31mTypeError\u001b[0m: '>' not supported between instances of 'complex' and 'int'"
     ]
    }
   ],
   "source": [
    "max(l2)"
   ]
  },
  {
   "cell_type": "code",
   "execution_count": 17,
   "id": "d35172de",
   "metadata": {},
   "outputs": [
    {
     "ename": "TypeError",
     "evalue": "'<' not supported between instances of 'complex' and 'float'",
     "output_type": "error",
     "traceback": [
      "\u001b[1;31m---------------------------------------------------------------------------\u001b[0m",
      "\u001b[1;31mTypeError\u001b[0m                                 Traceback (most recent call last)",
      "Input \u001b[1;32mIn [17]\u001b[0m, in \u001b[0;36m<cell line: 1>\u001b[1;34m()\u001b[0m\n\u001b[1;32m----> 1\u001b[0m \u001b[38;5;28;43msorted\u001b[39;49m\u001b[43m(\u001b[49m\u001b[43ml2\u001b[49m\u001b[43m)\u001b[49m\n",
      "\u001b[1;31mTypeError\u001b[0m: '<' not supported between instances of 'complex' and 'float'"
     ]
    }
   ],
   "source": [
    "sorted(l2)"
   ]
  },
  {
   "cell_type": "markdown",
   "id": "5d360ad0",
   "metadata": {},
   "source": [
    "### list() methods"
   ]
  },
  {
   "cell_type": "code",
   "execution_count": 18,
   "id": "d9a68bfd",
   "metadata": {},
   "outputs": [],
   "source": [
    "l3=list()"
   ]
  },
  {
   "cell_type": "code",
   "execution_count": 19,
   "id": "b7935a6e",
   "metadata": {},
   "outputs": [
    {
     "data": {
      "text/plain": [
       "[]"
      ]
     },
     "execution_count": 19,
     "metadata": {},
     "output_type": "execute_result"
    }
   ],
   "source": [
    "l3"
   ]
  },
  {
   "cell_type": "code",
   "execution_count": 20,
   "id": "e33040da",
   "metadata": {},
   "outputs": [
    {
     "ename": "TypeError",
     "evalue": "list expected at most 1 argument, got 3",
     "output_type": "error",
     "traceback": [
      "\u001b[1;31m---------------------------------------------------------------------------\u001b[0m",
      "\u001b[1;31mTypeError\u001b[0m                                 Traceback (most recent call last)",
      "Input \u001b[1;32mIn [20]\u001b[0m, in \u001b[0;36m<cell line: 1>\u001b[1;34m()\u001b[0m\n\u001b[1;32m----> 1\u001b[0m l3\u001b[38;5;241m=\u001b[39m\u001b[38;5;28;43mlist\u001b[39;49m\u001b[43m(\u001b[49m\u001b[38;5;241;43m10\u001b[39;49m\u001b[43m,\u001b[49m\u001b[38;5;241;43m20\u001b[39;49m\u001b[43m,\u001b[49m\u001b[38;5;241;43m30\u001b[39;49m\u001b[43m)\u001b[49m\n",
      "\u001b[1;31mTypeError\u001b[0m: list expected at most 1 argument, got 3"
     ]
    }
   ],
   "source": [
    "l3=list(10,20,30) #list expected at most 1 argument, got 3"
   ]
  },
  {
   "cell_type": "code",
   "execution_count": 21,
   "id": "31b53d2a",
   "metadata": {},
   "outputs": [
    {
     "ename": "TypeError",
     "evalue": "'int' object is not iterable",
     "output_type": "error",
     "traceback": [
      "\u001b[1;31m---------------------------------------------------------------------------\u001b[0m",
      "\u001b[1;31mTypeError\u001b[0m                                 Traceback (most recent call last)",
      "Input \u001b[1;32mIn [21]\u001b[0m, in \u001b[0;36m<cell line: 1>\u001b[1;34m()\u001b[0m\n\u001b[1;32m----> 1\u001b[0m l3\u001b[38;5;241m=\u001b[39m\u001b[38;5;28;43mlist\u001b[39;49m\u001b[43m(\u001b[49m\u001b[38;5;241;43m10\u001b[39;49m\u001b[43m)\u001b[49m\n",
      "\u001b[1;31mTypeError\u001b[0m: 'int' object is not iterable"
     ]
    }
   ],
   "source": [
    "l3=list(10) #int' object is not iterable"
   ]
  },
  {
   "cell_type": "code",
   "execution_count": 22,
   "id": "32cf6b33",
   "metadata": {},
   "outputs": [],
   "source": [
    "l3=list(range(4))"
   ]
  },
  {
   "cell_type": "code",
   "execution_count": 23,
   "id": "901056f7",
   "metadata": {},
   "outputs": [
    {
     "data": {
      "text/plain": [
       "[0, 1, 2, 3]"
      ]
     },
     "execution_count": 23,
     "metadata": {},
     "output_type": "execute_result"
    }
   ],
   "source": [
    "l3"
   ]
  },
  {
   "cell_type": "code",
   "execution_count": 25,
   "id": "7b4f4d1f",
   "metadata": {},
   "outputs": [],
   "source": [
    "l3=list(\"mysirg\")"
   ]
  },
  {
   "cell_type": "code",
   "execution_count": 26,
   "id": "f59b56b6",
   "metadata": {},
   "outputs": [
    {
     "data": {
      "text/plain": [
       "['m', 'y', 's', 'i', 'r', 'g']"
      ]
     },
     "execution_count": 26,
     "metadata": {},
     "output_type": "execute_result"
    }
   ],
   "source": [
    "l3"
   ]
  },
  {
   "cell_type": "code",
   "execution_count": 27,
   "id": "51e6b617",
   "metadata": {},
   "outputs": [],
   "source": [
    "l3=list([10,20])"
   ]
  },
  {
   "cell_type": "code",
   "execution_count": 28,
   "id": "b05a2c1b",
   "metadata": {},
   "outputs": [
    {
     "data": {
      "text/plain": [
       "[10, 20]"
      ]
     },
     "execution_count": 28,
     "metadata": {},
     "output_type": "execute_result"
    }
   ],
   "source": [
    "l3"
   ]
  },
  {
   "cell_type": "markdown",
   "id": "148d1a38",
   "metadata": {},
   "source": [
    "### comparision operetior in list"
   ]
  },
  {
   "cell_type": "code",
   "execution_count": 35,
   "id": "e1db6226",
   "metadata": {},
   "outputs": [],
   "source": [
    "l1=[1,2,3]\n",
    "l2=[2,3,1]\n",
    "l3=[1,2,3,4,5]\n",
    "l4=[1,2,3]\n",
    "l5=[5,6,7]"
   ]
  },
  {
   "cell_type": "code",
   "execution_count": 30,
   "id": "767ba2a1",
   "metadata": {},
   "outputs": [
    {
     "data": {
      "text/plain": [
       "False"
      ]
     },
     "execution_count": 30,
     "metadata": {},
     "output_type": "execute_result"
    }
   ],
   "source": [
    "l1==l2"
   ]
  },
  {
   "cell_type": "code",
   "execution_count": 31,
   "id": "c3457740",
   "metadata": {},
   "outputs": [
    {
     "data": {
      "text/plain": [
       "False"
      ]
     },
     "execution_count": 31,
     "metadata": {},
     "output_type": "execute_result"
    }
   ],
   "source": [
    "l1==l3"
   ]
  },
  {
   "cell_type": "code",
   "execution_count": 32,
   "id": "b05db6aa",
   "metadata": {},
   "outputs": [
    {
     "data": {
      "text/plain": [
       "True"
      ]
     },
     "execution_count": 32,
     "metadata": {},
     "output_type": "execute_result"
    }
   ],
   "source": [
    "l1==l4"
   ]
  },
  {
   "cell_type": "code",
   "execution_count": 33,
   "id": "b45045f2",
   "metadata": {},
   "outputs": [
    {
     "data": {
      "text/plain": [
       "False"
      ]
     },
     "execution_count": 33,
     "metadata": {},
     "output_type": "execute_result"
    }
   ],
   "source": [
    "l1>l2"
   ]
  },
  {
   "cell_type": "code",
   "execution_count": 34,
   "id": "a8a134ae",
   "metadata": {},
   "outputs": [
    {
     "data": {
      "text/plain": [
       "False"
      ]
     },
     "execution_count": 34,
     "metadata": {},
     "output_type": "execute_result"
    }
   ],
   "source": [
    "l1<l4"
   ]
  },
  {
   "cell_type": "code",
   "execution_count": 36,
   "id": "3c936458",
   "metadata": {},
   "outputs": [
    {
     "data": {
      "text/plain": [
       "True"
      ]
     },
     "execution_count": 36,
     "metadata": {},
     "output_type": "execute_result"
    }
   ],
   "source": [
    "l5>l1"
   ]
  },
  {
   "cell_type": "markdown",
   "id": "3a8a4d0c",
   "metadata": {},
   "source": [
    "### concatenation operator"
   ]
  },
  {
   "cell_type": "code",
   "execution_count": 39,
   "id": "7b6151b0",
   "metadata": {},
   "outputs": [],
   "source": [
    "l1=[2,4,5]\n",
    "l2=[5,2,8]\n",
    "l3=l2+l1"
   ]
  },
  {
   "cell_type": "code",
   "execution_count": 40,
   "id": "ed2157d8",
   "metadata": {},
   "outputs": [
    {
     "data": {
      "text/plain": [
       "[5, 2, 8, 2, 4, 5]"
      ]
     },
     "execution_count": 40,
     "metadata": {},
     "output_type": "execute_result"
    }
   ],
   "source": [
    "l3"
   ]
  },
  {
   "cell_type": "code",
   "execution_count": 41,
   "id": "49401db4",
   "metadata": {},
   "outputs": [],
   "source": [
    "l3=l2+l3"
   ]
  },
  {
   "cell_type": "code",
   "execution_count": 42,
   "id": "96b7d445",
   "metadata": {},
   "outputs": [
    {
     "data": {
      "text/plain": [
       "[5, 2, 8, 5, 2, 8, 2, 4, 5]"
      ]
     },
     "execution_count": 42,
     "metadata": {},
     "output_type": "execute_result"
    }
   ],
   "source": [
    "l3"
   ]
  },
  {
   "cell_type": "code",
   "execution_count": 43,
   "id": "04f02a9c",
   "metadata": {},
   "outputs": [],
   "source": [
    "l1+=l2"
   ]
  },
  {
   "cell_type": "code",
   "execution_count": 44,
   "id": "5f6328bb",
   "metadata": {},
   "outputs": [
    {
     "data": {
      "text/plain": [
       "[2, 4, 5, 5, 2, 8]"
      ]
     },
     "execution_count": 44,
     "metadata": {},
     "output_type": "execute_result"
    }
   ],
   "source": [
    "l1"
   ]
  },
  {
   "cell_type": "code",
   "execution_count": null,
   "id": "ba00a145",
   "metadata": {},
   "outputs": [],
   "source": []
  }
 ],
 "metadata": {
  "kernelspec": {
   "display_name": "Python 3 (ipykernel)",
   "language": "python",
   "name": "python3"
  },
  "language_info": {
   "codemirror_mode": {
    "name": "ipython",
    "version": 3
   },
   "file_extension": ".py",
   "mimetype": "text/x-python",
   "name": "python",
   "nbconvert_exporter": "python",
   "pygments_lexer": "ipython3",
   "version": "3.9.12"
  }
 },
 "nbformat": 4,
 "nbformat_minor": 5
}
