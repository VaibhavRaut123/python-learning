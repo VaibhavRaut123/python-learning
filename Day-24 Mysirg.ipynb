{
 "cells": [
  {
   "cell_type": "markdown",
   "id": "f885296e",
   "metadata": {},
   "source": [
    "### Local variable vs global variable"
   ]
  },
  {
   "cell_type": "code",
   "execution_count": 1,
   "id": "84ee4c81",
   "metadata": {},
   "outputs": [
    {
     "ename": "NameError",
     "evalue": "name 'x' is not defined",
     "output_type": "error",
     "traceback": [
      "\u001b[1;31m---------------------------------------------------------------------------\u001b[0m",
      "\u001b[1;31mNameError\u001b[0m                                 Traceback (most recent call last)",
      "Input \u001b[1;32mIn [1]\u001b[0m, in \u001b[0;36m<cell line: 7>\u001b[1;34m()\u001b[0m\n\u001b[0;32m      4\u001b[0m     \u001b[38;5;28mprint\u001b[39m(\u001b[38;5;124m\"\u001b[39m\u001b[38;5;124mx=\u001b[39m\u001b[38;5;124m\"\u001b[39m,x)\n\u001b[0;32m      5\u001b[0m     \u001b[38;5;28mprint\u001b[39m(\u001b[38;5;124m\"\u001b[39m\u001b[38;5;124my=\u001b[39m\u001b[38;5;124m\"\u001b[39m,y)\n\u001b[1;32m----> 7\u001b[0m \u001b[38;5;28mprint\u001b[39m(\u001b[43mx\u001b[49m)\n",
      "\u001b[1;31mNameError\u001b[0m: name 'x' is not defined"
     ]
    }
   ],
   "source": [
    "y=10 #global var\n",
    "def f1():\n",
    "    x=5 # local var\n",
    "    print(\"x=\",x)\n",
    "    print(\"y=\",y)\n",
    "    \n",
    "print(x)"
   ]
  },
  {
   "cell_type": "code",
   "execution_count": 3,
   "id": "f18d00e2",
   "metadata": {},
   "outputs": [
    {
     "name": "stdout",
     "output_type": "stream",
     "text": [
      "x= 5\n",
      "y= 10\n",
      "y= 10\n"
     ]
    }
   ],
   "source": [
    "y=10 #global var\n",
    "def f1():\n",
    "    x=5 # local var\n",
    "    print(\"x=\",x)\n",
    "    print(\"y=\",y)\n",
    "f1()    \n",
    "print(\"y=\",y)"
   ]
  },
  {
   "cell_type": "code",
   "execution_count": 4,
   "id": "78f5ab6c",
   "metadata": {},
   "outputs": [
    {
     "name": "stdout",
     "output_type": "stream",
     "text": [
      "x= 5\n",
      "x= 5\n"
     ]
    }
   ],
   "source": [
    "x=10\n",
    "def f1():\n",
    "    global x\n",
    "    x=5 #global variable\n",
    "    print(\"x=\",x)\n",
    "f1()   \n",
    "print(\"x=\",x)"
   ]
  },
  {
   "cell_type": "code",
   "execution_count": 5,
   "id": "a75e4f87",
   "metadata": {},
   "outputs": [
    {
     "name": "stdout",
     "output_type": "stream",
     "text": [
      "x= 10\n",
      "x= 5\n"
     ]
    }
   ],
   "source": [
    "x=10\n",
    "def f1():\n",
    "    global x\n",
    "    x=5 # global variable\n",
    "    print(\"x=\",x)\n",
    "  \n",
    "print(\"x=\",x)\n",
    "f1()"
   ]
  },
  {
   "cell_type": "code",
   "execution_count": 7,
   "id": "53f35ef5",
   "metadata": {},
   "outputs": [
    {
     "ename": "SyntaxError",
     "evalue": "name 'x' is assigned to before global declaration (2083107872.py, line 5)",
     "output_type": "error",
     "traceback": [
      "\u001b[1;36m  Input \u001b[1;32mIn [7]\u001b[1;36m\u001b[0m\n\u001b[1;33m    global x\u001b[0m\n\u001b[1;37m    ^\u001b[0m\n\u001b[1;31mSyntaxError\u001b[0m\u001b[1;31m:\u001b[0m name 'x' is assigned to before global declaration\n"
     ]
    }
   ],
   "source": [
    "x=10\n",
    "def f1():\n",
    "    \n",
    "    x=5\n",
    "    global x\n",
    "    print(\"x=\",x)\n",
    "  \n",
    "print(\"x=\",x)\n",
    "f1()"
   ]
  },
  {
   "cell_type": "code",
   "execution_count": 8,
   "id": "bac6b10d",
   "metadata": {},
   "outputs": [
    {
     "name": "stdout",
     "output_type": "stream",
     "text": [
      "x= 10\n",
      "x= 5\n",
      "x= 10\n"
     ]
    }
   ],
   "source": [
    "x=10\n",
    "def f1():\n",
    "    x=5 #local variable\n",
    "    g=globals()\n",
    "    print(\"x=\",x) # local variable\n",
    "    print(\"x=\",g['x']) # global variable\n",
    "    \n",
    "print(\"x=\",x) # global variable\n",
    "f1()"
   ]
  },
  {
   "cell_type": "code",
   "execution_count": 9,
   "id": "c4271989",
   "metadata": {},
   "outputs": [
    {
     "name": "stdout",
     "output_type": "stream",
     "text": [
      "x= 5\n",
      "x= 10\n",
      "x= 10\n"
     ]
    }
   ],
   "source": [
    "x=10\n",
    "def f1():\n",
    "    x=5 #local variable\n",
    "    g=globals()\n",
    "    print(\"x=\",x) # local variable\n",
    "    print(\"x=\",g['x']) # global variable\n",
    "f1()    \n",
    "print(\"x=\",x) # global variable\n"
   ]
  },
  {
   "cell_type": "code",
   "execution_count": null,
   "id": "08f49c5c",
   "metadata": {},
   "outputs": [],
   "source": []
  }
 ],
 "metadata": {
  "kernelspec": {
   "display_name": "Python 3 (ipykernel)",
   "language": "python",
   "name": "python3"
  },
  "language_info": {
   "codemirror_mode": {
    "name": "ipython",
    "version": 3
   },
   "file_extension": ".py",
   "mimetype": "text/x-python",
   "name": "python",
   "nbconvert_exporter": "python",
   "pygments_lexer": "ipython3",
   "version": "3.9.12"
  }
 },
 "nbformat": 4,
 "nbformat_minor": 5
}
