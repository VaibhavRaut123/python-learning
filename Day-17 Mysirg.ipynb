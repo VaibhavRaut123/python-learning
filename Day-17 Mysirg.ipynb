{
 "cells": [
  {
   "cell_type": "markdown",
   "id": "016f954a",
   "metadata": {},
   "source": [
    "### functions in python"
   ]
  },
  {
   "cell_type": "code",
   "execution_count": 1,
   "id": "bab9d7df",
   "metadata": {},
   "outputs": [
    {
     "name": "stdout",
     "output_type": "stream",
     "text": [
      "enter a number\n",
      "5\n",
      "1 4 9 16 25 "
     ]
    }
   ],
   "source": [
    "print(\"enter a number\")\n",
    "n=int(input())\n",
    "for e in range(1,n+1):\n",
    "    print(e**2,end=\" \")"
   ]
  },
  {
   "cell_type": "code",
   "execution_count": 2,
   "id": "edd2a87b",
   "metadata": {},
   "outputs": [],
   "source": [
    "def f1():\n",
    "    print(\"enter a number\")\n",
    "    n=int(input())\n",
    "    for e in range(1,n+1):\n",
    "        print(e**2,end=\" \") #function is not called so no programme had run"
   ]
  },
  {
   "cell_type": "code",
   "execution_count": 4,
   "id": "72b18671",
   "metadata": {},
   "outputs": [
    {
     "name": "stdout",
     "output_type": "stream",
     "text": [
      "enter a number\n",
      "5\n",
      "1 4 9 16 25 enter a number\n",
      "6\n",
      "1 4 9 16 25 36 "
     ]
    }
   ],
   "source": [
    "f1() # function call\n",
    "f1() # function call"
   ]
  },
  {
   "cell_type": "code",
   "execution_count": null,
   "id": "a8e4db42",
   "metadata": {},
   "outputs": [],
   "source": []
  }
 ],
 "metadata": {
  "kernelspec": {
   "display_name": "Python 3 (ipykernel)",
   "language": "python",
   "name": "python3"
  },
  "language_info": {
   "codemirror_mode": {
    "name": "ipython",
    "version": 3
   },
   "file_extension": ".py",
   "mimetype": "text/x-python",
   "name": "python",
   "nbconvert_exporter": "python",
   "pygments_lexer": "ipython3",
   "version": "3.9.12"
  }
 },
 "nbformat": 4,
 "nbformat_minor": 5
}
