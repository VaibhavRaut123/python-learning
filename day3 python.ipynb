{
 "cells": [
  {
   "cell_type": "code",
   "execution_count": 1,
   "id": "8b602343",
   "metadata": {},
   "outputs": [
    {
     "name": "stdout",
     "output_type": "stream",
     "text": [
      "12\n"
     ]
    }
   ],
   "source": [
    "print(3*4) # * multiplication"
   ]
  },
  {
   "cell_type": "code",
   "execution_count": 2,
   "id": "63862291",
   "metadata": {},
   "outputs": [
    {
     "name": "stdout",
     "output_type": "stream",
     "text": [
      "9\n"
     ]
    }
   ],
   "source": [
    "print(3**2) # ** for power"
   ]
  },
  {
   "cell_type": "code",
   "execution_count": 4,
   "id": "c73012c2",
   "metadata": {},
   "outputs": [
    {
     "name": "stdout",
     "output_type": "stream",
     "text": [
      "2.0\n"
     ]
    }
   ],
   "source": [
    "print(4/2) # true division operators always give result in float"
   ]
  },
  {
   "cell_type": "code",
   "execution_count": 5,
   "id": "ad414cbf",
   "metadata": {},
   "outputs": [
    {
     "data": {
      "text/plain": [
       "0"
      ]
     },
     "execution_count": 5,
     "metadata": {},
     "output_type": "execute_result"
    }
   ],
   "source": [
    "3//4 # ans 0.75 but shows ans before decimal"
   ]
  },
  {
   "cell_type": "code",
   "execution_count": 6,
   "id": "06c61c1e",
   "metadata": {},
   "outputs": [
    {
     "data": {
      "text/plain": [
       "0.0"
      ]
     },
     "execution_count": 6,
     "metadata": {},
     "output_type": "execute_result"
    }
   ],
   "source": [
    "3.0//4\n",
    "# for float ans is in float"
   ]
  },
  {
   "cell_type": "code",
   "execution_count": 7,
   "id": "87bb580d",
   "metadata": {},
   "outputs": [
    {
     "data": {
      "text/plain": [
       "1"
      ]
     },
     "execution_count": 7,
     "metadata": {},
     "output_type": "execute_result"
    }
   ],
   "source": [
    "# modulus operator teels reminder\n",
    "5%2\n"
   ]
  },
  {
   "cell_type": "markdown",
   "id": "6f29eb33",
   "metadata": {},
   "source": [
    "### relational operator"
   ]
  },
  {
   "cell_type": "code",
   "execution_count": 8,
   "id": "76506949",
   "metadata": {
    "scrolled": true
   },
   "outputs": [
    {
     "data": {
      "text/plain": [
       "False"
      ]
     },
     "execution_count": 8,
     "metadata": {},
     "output_type": "execute_result"
    }
   ],
   "source": [
    "\n",
    "4>5"
   ]
  },
  {
   "cell_type": "code",
   "execution_count": 12,
   "id": "d2c71bf7",
   "metadata": {},
   "outputs": [
    {
     "data": {
      "text/plain": [
       "True"
      ]
     },
     "execution_count": 12,
     "metadata": {},
     "output_type": "execute_result"
    }
   ],
   "source": [
    "6>5>4"
   ]
  },
  {
   "cell_type": "code",
   "execution_count": 14,
   "id": "8929f436",
   "metadata": {},
   "outputs": [
    {
     "data": {
      "text/plain": [
       "False"
      ]
     },
     "execution_count": 14,
     "metadata": {},
     "output_type": "execute_result"
    }
   ],
   "source": [
    "not True"
   ]
  },
  {
   "cell_type": "code",
   "execution_count": 15,
   "id": "69d189cb",
   "metadata": {},
   "outputs": [
    {
     "data": {
      "text/plain": [
       "True"
      ]
     },
     "execution_count": 15,
     "metadata": {},
     "output_type": "execute_result"
    }
   ],
   "source": [
    "not 3>4"
   ]
  },
  {
   "cell_type": "code",
   "execution_count": 16,
   "id": "d4a60ba4",
   "metadata": {},
   "outputs": [
    {
     "data": {
      "text/plain": [
       "True"
      ]
     },
     "execution_count": 16,
     "metadata": {},
     "output_type": "execute_result"
    }
   ],
   "source": [
    "3>0 and 4>0 # both should be true"
   ]
  },
  {
   "cell_type": "code",
   "execution_count": 17,
   "id": "d9644786",
   "metadata": {},
   "outputs": [
    {
     "data": {
      "text/plain": [
       "True"
      ]
     },
     "execution_count": 17,
     "metadata": {},
     "output_type": "execute_result"
    }
   ],
   "source": [
    "4>2 or 1>3 #anyone true"
   ]
  },
  {
   "cell_type": "code",
   "execution_count": 18,
   "id": "cdbe937e",
   "metadata": {},
   "outputs": [
    {
     "data": {
      "text/plain": [
       "'seeta'"
      ]
     },
     "execution_count": 18,
     "metadata": {},
     "output_type": "execute_result"
    }
   ],
   "source": [
    "# non empty string \"   \" ==> false\n",
    "# empty string \"\" ==> true\n",
    "\"seeta\" or \"geeta\""
   ]
  },
  {
   "cell_type": "code",
   "execution_count": 19,
   "id": "e6adbe11",
   "metadata": {},
   "outputs": [
    {
     "data": {
      "text/plain": [
       "'shyam'"
      ]
     },
     "execution_count": 19,
     "metadata": {},
     "output_type": "execute_result"
    }
   ],
   "source": [
    "\"ram\" and \"shyam\""
   ]
  },
  {
   "cell_type": "code",
   "execution_count": 20,
   "id": "5a75ee72",
   "metadata": {},
   "outputs": [
    {
     "data": {
      "text/plain": [
       "4"
      ]
     },
     "execution_count": 20,
     "metadata": {},
     "output_type": "execute_result"
    }
   ],
   "source": [
    "# every non zero value is true and zero is false\n",
    "3 and 4"
   ]
  },
  {
   "cell_type": "code",
   "execution_count": 21,
   "id": "166e603d",
   "metadata": {},
   "outputs": [
    {
     "data": {
      "text/plain": [
       "0"
      ]
     },
     "execution_count": 21,
     "metadata": {},
     "output_type": "execute_result"
    }
   ],
   "source": [
    "0 and 5"
   ]
  },
  {
   "cell_type": "code",
   "execution_count": 23,
   "id": "9205b7b1",
   "metadata": {},
   "outputs": [
    {
     "data": {
      "text/plain": [
       "5"
      ]
     },
     "execution_count": 23,
     "metadata": {},
     "output_type": "execute_result"
    }
   ],
   "source": [
    "0 or 5"
   ]
  },
  {
   "cell_type": "markdown",
   "id": "066877cd",
   "metadata": {},
   "source": [
    "### bitwise operator"
   ]
  },
  {
   "cell_type": "code",
   "execution_count": 24,
   "id": "a8c3ecac",
   "metadata": {},
   "outputs": [
    {
     "data": {
      "text/plain": [
       "0"
      ]
     },
     "execution_count": 24,
     "metadata": {},
     "output_type": "execute_result"
    }
   ],
   "source": [
    "\n",
    "3&4 # additio of 3&4 in binary 011(3)+100(4)=000 and operation"
   ]
  },
  {
   "cell_type": "code",
   "execution_count": 27,
   "id": "a8b04dbe",
   "metadata": {},
   "outputs": [
    {
     "data": {
      "text/plain": [
       "7"
      ]
     },
     "execution_count": 27,
     "metadata": {},
     "output_type": "execute_result"
    }
   ],
   "source": [
    "3|4 # addn of 3 and 4 or addin 011+100=111(7) or oprn"
   ]
  },
  {
   "cell_type": "code",
   "execution_count": 35,
   "id": "8514b887",
   "metadata": {},
   "outputs": [
    {
     "data": {
      "text/plain": [
       "2238443710896"
      ]
     },
     "execution_count": 35,
     "metadata": {},
     "output_type": "execute_result"
    }
   ],
   "source": [
    "# assignment variable \n",
    "# a=5, 5=a(error)\n",
    "# a,b,c = 5,6,7       [a=5,b=6,c=8(error)]\n",
    "x=5\n",
    "id(x) # tells address"
   ]
  },
  {
   "cell_type": "code",
   "execution_count": 34,
   "id": "3eec7400",
   "metadata": {},
   "outputs": [
    {
     "data": {
      "text/plain": [
       "2238443710896"
      ]
     },
     "execution_count": 34,
     "metadata": {},
     "output_type": "execute_result"
    }
   ],
   "source": [
    "y=5\n",
    "id(y)"
   ]
  },
  {
   "cell_type": "code",
   "execution_count": 36,
   "id": "2411143b",
   "metadata": {},
   "outputs": [
    {
     "data": {
      "text/plain": [
       "2238443710928"
      ]
     },
     "execution_count": 36,
     "metadata": {},
     "output_type": "execute_result"
    }
   ],
   "source": [
    "y=6\n",
    "id(y)"
   ]
  },
  {
   "cell_type": "markdown",
   "id": "2d548396",
   "metadata": {},
   "source": [
    "# membership oprator"
   ]
  },
  {
   "cell_type": "markdown",
   "id": "0fffbb88",
   "metadata": {},
   "source": [
    "### in, not in"
   ]
  },
  {
   "cell_type": "code",
   "execution_count": 37,
   "id": "ae2ea1cb",
   "metadata": {},
   "outputs": [],
   "source": [
    " # x in y, y is iterable(collection of elements) so it can't be int,float,complex,bool\n",
    "    # but can be list, str, range, tuple, set, dict, etc"
   ]
  },
  {
   "cell_type": "code",
   "execution_count": 38,
   "id": "ff5ab326",
   "metadata": {},
   "outputs": [],
   "source": [
    "y=\"mysirg\""
   ]
  },
  {
   "cell_type": "code",
   "execution_count": 39,
   "id": "2ae47fa7",
   "metadata": {},
   "outputs": [
    {
     "data": {
      "text/plain": [
       "True"
      ]
     },
     "execution_count": 39,
     "metadata": {},
     "output_type": "execute_result"
    }
   ],
   "source": [
    "\"my\" in y"
   ]
  },
  {
   "cell_type": "code",
   "execution_count": 40,
   "id": "96a0267d",
   "metadata": {},
   "outputs": [
    {
     "data": {
      "text/plain": [
       "True"
      ]
     },
     "execution_count": 40,
     "metadata": {},
     "output_type": "execute_result"
    }
   ],
   "source": [
    "\"y\" in y"
   ]
  },
  {
   "cell_type": "code",
   "execution_count": 41,
   "id": "64bd265c",
   "metadata": {},
   "outputs": [
    {
     "ename": "TypeError",
     "evalue": "argument of type 'int' is not iterable",
     "output_type": "error",
     "traceback": [
      "\u001b[1;31m---------------------------------------------------------------------------\u001b[0m",
      "\u001b[1;31mTypeError\u001b[0m                                 Traceback (most recent call last)",
      "Input \u001b[1;32mIn [41]\u001b[0m, in \u001b[0;36m<cell line: 1>\u001b[1;34m()\u001b[0m\n\u001b[1;32m----> 1\u001b[0m \u001b[38;5;241;43m4\u001b[39;49m\u001b[43m \u001b[49m\u001b[38;5;129;43;01min\u001b[39;49;00m\u001b[43m \u001b[49m\u001b[38;5;241;43m456\u001b[39;49m\n",
      "\u001b[1;31mTypeError\u001b[0m: argument of type 'int' is not iterable"
     ]
    }
   ],
   "source": [
    "4 in 456"
   ]
  },
  {
   "cell_type": "markdown",
   "id": "9b2da503",
   "metadata": {},
   "source": [
    "### input() function"
   ]
  },
  {
   "cell_type": "code",
   "execution_count": 42,
   "id": "4a7e3457",
   "metadata": {},
   "outputs": [
    {
     "name": "stdout",
     "output_type": "stream",
     "text": [
      "hellow\n"
     ]
    }
   ],
   "source": [
    "x = input()"
   ]
  },
  {
   "cell_type": "code",
   "execution_count": 43,
   "id": "0e9af3dc",
   "metadata": {
    "scrolled": true
   },
   "outputs": [
    {
     "name": "stdout",
     "output_type": "stream",
     "text": [
      "hellow\n"
     ]
    }
   ],
   "source": [
    "print(x)"
   ]
  },
  {
   "cell_type": "code",
   "execution_count": 46,
   "id": "1a22af09",
   "metadata": {},
   "outputs": [
    {
     "data": {
      "text/plain": [
       "str"
      ]
     },
     "execution_count": 46,
     "metadata": {},
     "output_type": "execute_result"
    }
   ],
   "source": [
    "type(x)"
   ]
  },
  {
   "cell_type": "code",
   "execution_count": 47,
   "id": "fb5f1f7c",
   "metadata": {},
   "outputs": [
    {
     "name": "stdout",
     "output_type": "stream",
     "text": [
      "enter your namevaibhav\n",
      "hellow vaibhav\n"
     ]
    }
   ],
   "source": [
    "x=input(\"enter your name\")\n",
    "print(\"hellow\",x)"
   ]
  },
  {
   "cell_type": "code",
   "execution_count": null,
   "id": "cf948599",
   "metadata": {},
   "outputs": [],
   "source": []
  }
 ],
 "metadata": {
  "kernelspec": {
   "display_name": "Python 3 (ipykernel)",
   "language": "python",
   "name": "python3"
  },
  "language_info": {
   "codemirror_mode": {
    "name": "ipython",
    "version": 3
   },
   "file_extension": ".py",
   "mimetype": "text/x-python",
   "name": "python",
   "nbconvert_exporter": "python",
   "pygments_lexer": "ipython3",
   "version": "3.9.12"
  }
 },
 "nbformat": 4,
 "nbformat_minor": 5
}
