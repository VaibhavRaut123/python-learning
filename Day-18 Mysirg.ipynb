{
 "cells": [
  {
   "cell_type": "markdown",
   "id": "f45926ee",
   "metadata": {},
   "source": [
    "### keywords in python"
   ]
  },
  {
   "cell_type": "markdown",
   "id": "fbcf05e9",
   "metadata": {},
   "source": [
    "### more about function"
   ]
  },
  {
   "cell_type": "code",
   "execution_count": 1,
   "id": "9bf3e874",
   "metadata": {},
   "outputs": [
    {
     "name": "stdout",
     "output_type": "stream",
     "text": [
      "sum is 22\n",
      "sum is 28\n"
     ]
    }
   ],
   "source": [
    "def f1(a,b): # Take something type of function\n",
    "    c=a+b\n",
    "    print(\"sum is\",c)\n",
    "f1(10,12) #function call\n",
    "f1(13,15) #function call"
   ]
  },
  {
   "cell_type": "code",
   "execution_count": 4,
   "id": "afc36147",
   "metadata": {},
   "outputs": [
    {
     "ename": "TypeError",
     "evalue": "f2() takes 2 positional arguments but 3 were given",
     "output_type": "error",
     "traceback": [
      "\u001b[1;31m---------------------------------------------------------------------------\u001b[0m",
      "\u001b[1;31mTypeError\u001b[0m                                 Traceback (most recent call last)",
      "Input \u001b[1;32mIn [4]\u001b[0m, in \u001b[0;36m<cell line: 4>\u001b[1;34m()\u001b[0m\n\u001b[0;32m      2\u001b[0m     c\u001b[38;5;241m=\u001b[39ma\u001b[38;5;241m+\u001b[39mb\n\u001b[0;32m      3\u001b[0m     \u001b[38;5;28mprint\u001b[39m(\u001b[38;5;124m'\u001b[39m\u001b[38;5;124msum is \u001b[39m\u001b[38;5;124m'\u001b[39m,c)\n\u001b[1;32m----> 4\u001b[0m \u001b[43mf2\u001b[49m\u001b[43m(\u001b[49m\u001b[38;5;241;43m10\u001b[39;49m\u001b[43m,\u001b[49m\u001b[38;5;241;43m20\u001b[39;49m\u001b[43m,\u001b[49m\u001b[38;5;241;43m30\u001b[39;49m\u001b[43m)\u001b[49m \u001b[38;5;66;03m#TypeError: f2() takes 2 positional arguments but 3 were given\u001b[39;00m\n\u001b[0;32m      5\u001b[0m f2(\u001b[38;5;241m11\u001b[39m,\u001b[38;5;241m22\u001b[39m)\n",
      "\u001b[1;31mTypeError\u001b[0m: f2() takes 2 positional arguments but 3 were given"
     ]
    }
   ],
   "source": [
    "def f2(a,b):\n",
    "    c=a+b\n",
    "    print('sum is ',c)\n",
    "f2(10,20,30) #TypeError: f2() takes 2 positional arguments but 3 were given\n",
    "f2(11,22)"
   ]
  },
  {
   "cell_type": "code",
   "execution_count": 5,
   "id": "3e047858",
   "metadata": {},
   "outputs": [
    {
     "name": "stdout",
     "output_type": "stream",
     "text": [
      "sum is  60\n"
     ]
    },
    {
     "ename": "TypeError",
     "evalue": "f2() missing 1 required positional argument: 'c'",
     "output_type": "error",
     "traceback": [
      "\u001b[1;31m---------------------------------------------------------------------------\u001b[0m",
      "\u001b[1;31mTypeError\u001b[0m                                 Traceback (most recent call last)",
      "Input \u001b[1;32mIn [5]\u001b[0m, in \u001b[0;36m<cell line: 5>\u001b[1;34m()\u001b[0m\n\u001b[0;32m      3\u001b[0m     \u001b[38;5;28mprint\u001b[39m(\u001b[38;5;124m'\u001b[39m\u001b[38;5;124msum is \u001b[39m\u001b[38;5;124m'\u001b[39m,d)\n\u001b[0;32m      4\u001b[0m f2(\u001b[38;5;241m10\u001b[39m,\u001b[38;5;241m20\u001b[39m,\u001b[38;5;241m30\u001b[39m) \u001b[38;5;66;03m#TypeError: f2() takes 2 positional arguments but 3 were given\u001b[39;00m\n\u001b[1;32m----> 5\u001b[0m \u001b[43mf2\u001b[49m\u001b[43m(\u001b[49m\u001b[38;5;241;43m11\u001b[39;49m\u001b[43m,\u001b[49m\u001b[38;5;241;43m22\u001b[39;49m\u001b[43m)\u001b[49m\n",
      "\u001b[1;31mTypeError\u001b[0m: f2() missing 1 required positional argument: 'c'"
     ]
    }
   ],
   "source": [
    "def f2(a,b,c):\n",
    "    d=a+b+c\n",
    "    print('sum is ',d)\n",
    "f2(10,20,30) #TypeError: f2() takes 2 positional arguments but 3 were given\n",
    "f2(11,22)"
   ]
  },
  {
   "cell_type": "code",
   "execution_count": 7,
   "id": "dc399895",
   "metadata": {},
   "outputs": [
    {
     "name": "stdout",
     "output_type": "stream",
     "text": [
      "sum is  43\n",
      "sum is  33\n"
     ]
    }
   ],
   "source": [
    "def f3(a,b,c=0): # default value is assigned by using the assignment (=) operator\n",
    "    d=a+b+c\n",
    "    print(\"sum is \",d)\n",
    "f3(10,11,22)\n",
    "f3(11,22)"
   ]
  },
  {
   "cell_type": "code",
   "execution_count": 8,
   "id": "5c4c1c85",
   "metadata": {},
   "outputs": [
    {
     "ename": "SyntaxError",
     "evalue": "non-default argument follows default argument (2600830283.py, line 1)",
     "output_type": "error",
     "traceback": [
      "\u001b[1;36m  Input \u001b[1;32mIn [8]\u001b[1;36m\u001b[0m\n\u001b[1;33m    def f3(a,b=0,c):\u001b[0m\n\u001b[1;37m                  ^\u001b[0m\n\u001b[1;31mSyntaxError\u001b[0m\u001b[1;31m:\u001b[0m non-default argument follows default argument\n"
     ]
    }
   ],
   "source": [
    "def f3(a,b=0,c):#SyntaxError: non-default argument follows default argument\n",
    "\n",
    "    d=a+b+c\n",
    "    print(\"sum is \",d)\n",
    "f3(11,22,33)\n",
    "f3(11,22)"
   ]
  },
  {
   "cell_type": "code",
   "execution_count": 9,
   "id": "9a14e2ab",
   "metadata": {},
   "outputs": [
    {
     "name": "stdout",
     "output_type": "stream",
     "text": [
      "sum is 0\n",
      "sum is 30\n",
      "sum is 66\n"
     ]
    }
   ],
   "source": [
    "def f3(a=0,b=0,c=0):\n",
    "    d=a+b+c\n",
    "    print(\"sum is\", d)\n",
    "f3()\n",
    "f3(10,20)\n",
    "f3(11,22,33)"
   ]
  },
  {
   "cell_type": "markdown",
   "id": "cca9e495",
   "metadata": {},
   "source": [
    "### positional argument and keyword argument"
   ]
  },
  {
   "cell_type": "code",
   "execution_count": 12,
   "id": "b3f553cb",
   "metadata": {},
   "outputs": [
    {
     "name": "stdout",
     "output_type": "stream",
     "text": [
      "a= 10 and b= 20\n"
     ]
    }
   ],
   "source": [
    "def f4(a,b):\n",
    "    print(\"a=\",a,\"and b=\",b)\n",
    "f4(10,20)#positional arguments"
   ]
  },
  {
   "cell_type": "code",
   "execution_count": 13,
   "id": "aba6921e",
   "metadata": {},
   "outputs": [
    {
     "name": "stdout",
     "output_type": "stream",
     "text": [
      "a= 11 and b= 10\n"
     ]
    }
   ],
   "source": [
    "def f4(a,b):\n",
    "    print(\"a=\",a,\"and b=\",b)\n",
    "f4(b=10,a=11)#keyword arguments"
   ]
  },
  {
   "cell_type": "code",
   "execution_count": 14,
   "id": "3b77b503",
   "metadata": {},
   "outputs": [
    {
     "ename": "TypeError",
     "evalue": "f4() got multiple values for argument 'a'",
     "output_type": "error",
     "traceback": [
      "\u001b[1;31m---------------------------------------------------------------------------\u001b[0m",
      "\u001b[1;31mTypeError\u001b[0m                                 Traceback (most recent call last)",
      "Input \u001b[1;32mIn [14]\u001b[0m, in \u001b[0;36m<cell line: 3>\u001b[1;34m()\u001b[0m\n\u001b[0;32m      1\u001b[0m \u001b[38;5;28;01mdef\u001b[39;00m \u001b[38;5;21mf4\u001b[39m(a,b):\n\u001b[0;32m      2\u001b[0m     \u001b[38;5;28mprint\u001b[39m(\u001b[38;5;124m\"\u001b[39m\u001b[38;5;124ma=\u001b[39m\u001b[38;5;124m\"\u001b[39m,a,\u001b[38;5;124m\"\u001b[39m\u001b[38;5;124mand b=\u001b[39m\u001b[38;5;124m\"\u001b[39m,b)\n\u001b[1;32m----> 3\u001b[0m \u001b[43mf4\u001b[49m\u001b[43m(\u001b[49m\u001b[38;5;241;43m10\u001b[39;49m\u001b[43m,\u001b[49m\u001b[43ma\u001b[49m\u001b[38;5;241;43m=\u001b[39;49m\u001b[38;5;241;43m11\u001b[39;49m\u001b[43m)\u001b[49m\n",
      "\u001b[1;31mTypeError\u001b[0m: f4() got multiple values for argument 'a'"
     ]
    }
   ],
   "source": [
    "def f4(a,b):\n",
    "    print(\"a=\",a,\"and b=\",b)\n",
    "f4(10,a=11) #TypeError: f4() got multiple values for argument 'a'\n"
   ]
  },
  {
   "cell_type": "code",
   "execution_count": 15,
   "id": "3ebbb4e5",
   "metadata": {},
   "outputs": [
    {
     "ename": "SyntaxError",
     "evalue": "positional argument follows keyword argument (2852721754.py, line 3)",
     "output_type": "error",
     "traceback": [
      "\u001b[1;36m  Input \u001b[1;32mIn [15]\u001b[1;36m\u001b[0m\n\u001b[1;33m    f4(a=10,11)\u001b[0m\n\u001b[1;37m              ^\u001b[0m\n\u001b[1;31mSyntaxError\u001b[0m\u001b[1;31m:\u001b[0m positional argument follows keyword argument\n"
     ]
    }
   ],
   "source": [
    "def f4(a,b):\n",
    "    print(\"a=\",a,\"and b=\",b)\n",
    "f4(a=10,11) #SyntaxError: positional argument follows keyword argument"
   ]
  },
  {
   "cell_type": "code",
   "execution_count": 17,
   "id": "48be17b0",
   "metadata": {},
   "outputs": [
    {
     "name": "stdout",
     "output_type": "stream",
     "text": [
      "a= 10 b= 11\n"
     ]
    }
   ],
   "source": [
    "def f4(a,b):\n",
    "    print(\"a=\",a,\"b=\",b)\n",
    "f4(10,b=11)"
   ]
  },
  {
   "cell_type": "code",
   "execution_count": null,
   "id": "cd8df30f",
   "metadata": {},
   "outputs": [],
   "source": []
  }
 ],
 "metadata": {
  "kernelspec": {
   "display_name": "Python 3 (ipykernel)",
   "language": "python",
   "name": "python3"
  },
  "language_info": {
   "codemirror_mode": {
    "name": "ipython",
    "version": 3
   },
   "file_extension": ".py",
   "mimetype": "text/x-python",
   "name": "python",
   "nbconvert_exporter": "python",
   "pygments_lexer": "ipython3",
   "version": "3.9.12"
  }
 },
 "nbformat": 4,
 "nbformat_minor": 5
}
