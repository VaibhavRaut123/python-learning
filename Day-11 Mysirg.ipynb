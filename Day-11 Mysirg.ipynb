{
 "cells": [
  {
   "cell_type": "markdown",
   "id": "e37dca4a",
   "metadata": {},
   "source": [
    "### str in python"
   ]
  },
  {
   "cell_type": "code",
   "execution_count": 1,
   "id": "4ed91a1e",
   "metadata": {},
   "outputs": [],
   "source": [
    "s1=\"mysirg\""
   ]
  },
  {
   "cell_type": "code",
   "execution_count": 2,
   "id": "129a37ab",
   "metadata": {},
   "outputs": [
    {
     "data": {
      "text/plain": [
       "'mysirg'"
      ]
     },
     "execution_count": 2,
     "metadata": {},
     "output_type": "execute_result"
    }
   ],
   "source": [
    "s1"
   ]
  },
  {
   "cell_type": "code",
   "execution_count": 3,
   "id": "655aec8a",
   "metadata": {},
   "outputs": [
    {
     "data": {
      "text/plain": [
       "-8097521879590962949"
      ]
     },
     "execution_count": 3,
     "metadata": {},
     "output_type": "execute_result"
    }
   ],
   "source": [
    "hash(s1) # str is hashable but list is not"
   ]
  },
  {
   "cell_type": "code",
   "execution_count": 4,
   "id": "f030bf67",
   "metadata": {},
   "outputs": [],
   "source": [
    "s2=\"\""
   ]
  },
  {
   "cell_type": "code",
   "execution_count": 5,
   "id": "70cb616a",
   "metadata": {},
   "outputs": [
    {
     "data": {
      "text/plain": [
       "''"
      ]
     },
     "execution_count": 5,
     "metadata": {},
     "output_type": "execute_result"
    }
   ],
   "source": [
    "s2"
   ]
  },
  {
   "cell_type": "code",
   "execution_count": 6,
   "id": "9d5fd941",
   "metadata": {},
   "outputs": [],
   "source": [
    "s2=str()"
   ]
  },
  {
   "cell_type": "code",
   "execution_count": 7,
   "id": "196fdd57",
   "metadata": {},
   "outputs": [
    {
     "data": {
      "text/plain": [
       "''"
      ]
     },
     "execution_count": 7,
     "metadata": {},
     "output_type": "execute_result"
    }
   ],
   "source": [
    "s2"
   ]
  },
  {
   "cell_type": "code",
   "execution_count": 8,
   "id": "3f17fa4a",
   "metadata": {},
   "outputs": [],
   "source": [
    "s2='mysirg'"
   ]
  },
  {
   "cell_type": "code",
   "execution_count": 9,
   "id": "cb08d5f4",
   "metadata": {},
   "outputs": [
    {
     "data": {
      "text/plain": [
       "'mysirg'"
      ]
     },
     "execution_count": 9,
     "metadata": {},
     "output_type": "execute_result"
    }
   ],
   "source": [
    "s2"
   ]
  },
  {
   "cell_type": "code",
   "execution_count": 10,
   "id": "17863415",
   "metadata": {},
   "outputs": [],
   "source": [
    "s3=str([11,22])"
   ]
  },
  {
   "cell_type": "code",
   "execution_count": 11,
   "id": "0957f2b7",
   "metadata": {},
   "outputs": [
    {
     "data": {
      "text/plain": [
       "'[11, 22]'"
      ]
     },
     "execution_count": 11,
     "metadata": {},
     "output_type": "execute_result"
    }
   ],
   "source": [
    "s3"
   ]
  },
  {
   "cell_type": "code",
   "execution_count": 12,
   "id": "f58eb3b1",
   "metadata": {},
   "outputs": [
    {
     "ename": "NameError",
     "evalue": "name 'mysirg' is not defined",
     "output_type": "error",
     "traceback": [
      "\u001b[1;31m---------------------------------------------------------------------------\u001b[0m",
      "\u001b[1;31mNameError\u001b[0m                                 Traceback (most recent call last)",
      "Input \u001b[1;32mIn [12]\u001b[0m, in \u001b[0;36m<cell line: 1>\u001b[1;34m()\u001b[0m\n\u001b[1;32m----> 1\u001b[0m s4\u001b[38;5;241m=\u001b[39m\u001b[43mmysirg\u001b[49m\n",
      "\u001b[1;31mNameError\u001b[0m: name 'mysirg' is not defined"
     ]
    }
   ],
   "source": [
    "s4=mysirg"
   ]
  },
  {
   "cell_type": "code",
   "execution_count": 13,
   "id": "73e4afa5",
   "metadata": {},
   "outputs": [
    {
     "ename": "NameError",
     "evalue": "name 'mysirg' is not defined",
     "output_type": "error",
     "traceback": [
      "\u001b[1;31m---------------------------------------------------------------------------\u001b[0m",
      "\u001b[1;31mNameError\u001b[0m                                 Traceback (most recent call last)",
      "Input \u001b[1;32mIn [13]\u001b[0m, in \u001b[0;36m<cell line: 1>\u001b[1;34m()\u001b[0m\n\u001b[1;32m----> 1\u001b[0m s4\u001b[38;5;241m=\u001b[39m\u001b[38;5;28mstr\u001b[39m(\u001b[43mmysirg\u001b[49m)\n",
      "\u001b[1;31mNameError\u001b[0m: name 'mysirg' is not defined"
     ]
    }
   ],
   "source": [
    "s4=str(mysirg)"
   ]
  },
  {
   "cell_type": "code",
   "execution_count": 14,
   "id": "98b75d57",
   "metadata": {},
   "outputs": [],
   "source": [
    "s4=str(\"mysirg\")"
   ]
  },
  {
   "cell_type": "code",
   "execution_count": 15,
   "id": "068edbcf",
   "metadata": {},
   "outputs": [
    {
     "data": {
      "text/plain": [
       "'mysirg'"
      ]
     },
     "execution_count": 15,
     "metadata": {},
     "output_type": "execute_result"
    }
   ],
   "source": [
    "s4"
   ]
  },
  {
   "cell_type": "markdown",
   "id": "cc138440",
   "metadata": {},
   "source": [
    "### indexing"
   ]
  },
  {
   "cell_type": "code",
   "execution_count": 16,
   "id": "ba3217cb",
   "metadata": {},
   "outputs": [],
   "source": [
    "s4=\"mysirg\""
   ]
  },
  {
   "cell_type": "code",
   "execution_count": 17,
   "id": "9d7558af",
   "metadata": {},
   "outputs": [
    {
     "data": {
      "text/plain": [
       "'m'"
      ]
     },
     "execution_count": 17,
     "metadata": {},
     "output_type": "execute_result"
    }
   ],
   "source": [
    "s4[0]"
   ]
  },
  {
   "cell_type": "code",
   "execution_count": 18,
   "id": "d88d5f87",
   "metadata": {},
   "outputs": [
    {
     "data": {
      "text/plain": [
       "'g'"
      ]
     },
     "execution_count": 18,
     "metadata": {},
     "output_type": "execute_result"
    }
   ],
   "source": [
    "s4[-1]"
   ]
  },
  {
   "cell_type": "code",
   "execution_count": 19,
   "id": "59a83d27",
   "metadata": {},
   "outputs": [],
   "source": [
    "s4=\"mysirG\""
   ]
  },
  {
   "cell_type": "code",
   "execution_count": 20,
   "id": "979a8eec",
   "metadata": {},
   "outputs": [
    {
     "data": {
      "text/plain": [
       "'y'"
      ]
     },
     "execution_count": 20,
     "metadata": {},
     "output_type": "execute_result"
    }
   ],
   "source": [
    "s4[1]"
   ]
  },
  {
   "cell_type": "code",
   "execution_count": 21,
   "id": "ab1d3c5f",
   "metadata": {},
   "outputs": [
    {
     "data": {
      "text/plain": [
       "'G'"
      ]
     },
     "execution_count": 21,
     "metadata": {},
     "output_type": "execute_result"
    }
   ],
   "source": [
    "s4[-1]"
   ]
  },
  {
   "cell_type": "markdown",
   "id": "00c9069f",
   "metadata": {},
   "source": [
    "#### Accessing str element"
   ]
  },
  {
   "cell_type": "code",
   "execution_count": 24,
   "id": "0ec16d3d",
   "metadata": {},
   "outputs": [
    {
     "name": "stdout",
     "output_type": "stream",
     "text": [
      "m\n",
      "y\n",
      "s\n",
      "i\n",
      "r\n",
      "G\n"
     ]
    }
   ],
   "source": [
    "### s4[index]\n",
    "# print(s4)\n",
    "# for loop\n",
    "for e in s4:\n",
    "    print(e)"
   ]
  },
  {
   "cell_type": "markdown",
   "id": "b35ef70c",
   "metadata": {},
   "source": [
    "### built in method"
   ]
  },
  {
   "cell_type": "code",
   "execution_count": 25,
   "id": "2b4c88b9",
   "metadata": {},
   "outputs": [
    {
     "data": {
      "text/plain": [
       "6"
      ]
     },
     "execution_count": 25,
     "metadata": {},
     "output_type": "execute_result"
    }
   ],
   "source": [
    "len(s4)"
   ]
  },
  {
   "cell_type": "code",
   "execution_count": 26,
   "id": "78e1f9f5",
   "metadata": {},
   "outputs": [
    {
     "data": {
      "text/plain": [
       "'G'"
      ]
     },
     "execution_count": 26,
     "metadata": {},
     "output_type": "execute_result"
    }
   ],
   "source": [
    "min(s4) #alphabeticaly early"
   ]
  },
  {
   "cell_type": "code",
   "execution_count": 27,
   "id": "04b9058e",
   "metadata": {},
   "outputs": [
    {
     "data": {
      "text/plain": [
       "'y'"
      ]
     },
     "execution_count": 27,
     "metadata": {},
     "output_type": "execute_result"
    }
   ],
   "source": [
    "max(s4)"
   ]
  },
  {
   "cell_type": "code",
   "execution_count": 28,
   "id": "f4fcf020",
   "metadata": {},
   "outputs": [
    {
     "ename": "TypeError",
     "evalue": "unsupported operand type(s) for +: 'int' and 'str'",
     "output_type": "error",
     "traceback": [
      "\u001b[1;31m---------------------------------------------------------------------------\u001b[0m",
      "\u001b[1;31mTypeError\u001b[0m                                 Traceback (most recent call last)",
      "Input \u001b[1;32mIn [28]\u001b[0m, in \u001b[0;36m<cell line: 1>\u001b[1;34m()\u001b[0m\n\u001b[1;32m----> 1\u001b[0m \u001b[38;5;28;43msum\u001b[39;49m\u001b[43m(\u001b[49m\u001b[43ms4\u001b[49m\u001b[43m)\u001b[49m\n",
      "\u001b[1;31mTypeError\u001b[0m: unsupported operand type(s) for +: 'int' and 'str'"
     ]
    }
   ],
   "source": [
    "sum(s4)"
   ]
  },
  {
   "cell_type": "code",
   "execution_count": 30,
   "id": "e7d57fbd",
   "metadata": {},
   "outputs": [
    {
     "data": {
      "text/plain": [
       "['G', 'i', 'm', 'r', 's', 'y']"
      ]
     },
     "execution_count": 30,
     "metadata": {},
     "output_type": "execute_result"
    }
   ],
   "source": [
    "sorted(s4) #alphabetically arrange; this function always written in list "
   ]
  },
  {
   "cell_type": "code",
   "execution_count": 31,
   "id": "831e6b1f",
   "metadata": {},
   "outputs": [
    {
     "data": {
      "text/plain": [
       "'mysirG'"
      ]
     },
     "execution_count": 31,
     "metadata": {},
     "output_type": "execute_result"
    }
   ],
   "source": [
    "s4"
   ]
  },
  {
   "cell_type": "code",
   "execution_count": 32,
   "id": "ea5f6a93",
   "metadata": {},
   "outputs": [
    {
     "data": {
      "text/plain": [
       "7.3"
      ]
     },
     "execution_count": 32,
     "metadata": {},
     "output_type": "execute_result"
    }
   ],
   "source": [
    "### testing\n",
    "3+4.3"
   ]
  },
  {
   "cell_type": "code",
   "execution_count": 33,
   "id": "4a5f75da",
   "metadata": {},
   "outputs": [
    {
     "data": {
      "text/plain": [
       "10.5"
      ]
     },
     "execution_count": 33,
     "metadata": {},
     "output_type": "execute_result"
    }
   ],
   "source": [
    "i1=5 #int\n",
    "f1=5.5 #float\n",
    "i1+f1"
   ]
  },
  {
   "cell_type": "code",
   "execution_count": 34,
   "id": "db50b0b4",
   "metadata": {},
   "outputs": [
    {
     "data": {
      "text/plain": [
       "True"
      ]
     },
     "execution_count": 34,
     "metadata": {},
     "output_type": "execute_result"
    }
   ],
   "source": [
    "3==3 #== equal to"
   ]
  },
  {
   "cell_type": "code",
   "execution_count": 35,
   "id": "387f0007",
   "metadata": {},
   "outputs": [
    {
     "data": {
      "text/plain": [
       "True"
      ]
     },
     "execution_count": 35,
     "metadata": {},
     "output_type": "execute_result"
    }
   ],
   "source": [
    "3!=4 #!= not equal to"
   ]
  },
  {
   "cell_type": "markdown",
   "id": "77fad390",
   "metadata": {},
   "source": [
    "### concatenation and repetition operator"
   ]
  },
  {
   "cell_type": "code",
   "execution_count": 36,
   "id": "c36632c1",
   "metadata": {},
   "outputs": [],
   "source": [
    "s1=\"abc\"\n",
    "s2=\"de\""
   ]
  },
  {
   "cell_type": "code",
   "execution_count": 37,
   "id": "d2a5fd74",
   "metadata": {},
   "outputs": [
    {
     "data": {
      "text/plain": [
       "'abcde'"
      ]
     },
     "execution_count": 37,
     "metadata": {},
     "output_type": "execute_result"
    }
   ],
   "source": [
    "s1+s2 # concatenation"
   ]
  },
  {
   "cell_type": "code",
   "execution_count": 38,
   "id": "9905e32b",
   "metadata": {},
   "outputs": [
    {
     "data": {
      "text/plain": [
       "'deabc'"
      ]
     },
     "execution_count": 38,
     "metadata": {},
     "output_type": "execute_result"
    }
   ],
   "source": [
    "s2+s1"
   ]
  },
  {
   "cell_type": "code",
   "execution_count": 39,
   "id": "a9689ace",
   "metadata": {},
   "outputs": [
    {
     "data": {
      "text/plain": [
       "'dedede'"
      ]
     },
     "execution_count": 39,
     "metadata": {},
     "output_type": "execute_result"
    }
   ],
   "source": [
    "s2*3"
   ]
  },
  {
   "cell_type": "markdown",
   "id": "7dbd259d",
   "metadata": {},
   "source": [
    "### comparision operator"
   ]
  },
  {
   "cell_type": "code",
   "execution_count": 43,
   "id": "d0edd6fd",
   "metadata": {},
   "outputs": [
    {
     "data": {
      "text/plain": [
       "True"
      ]
     },
     "execution_count": 43,
     "metadata": {},
     "output_type": "execute_result"
    }
   ],
   "source": [
    "s1=\"mysirg\"\n",
    "s2=\"saurabh\"\n",
    "s1<s2 # the letter which comes first in dictionary order is small,here this means s2 comes after s1 in dictionary order"
   ]
  },
  {
   "cell_type": "code",
   "execution_count": 41,
   "id": "05a4fc4e",
   "metadata": {},
   "outputs": [
    {
     "data": {
      "text/plain": [
       "True"
      ]
     },
     "execution_count": 41,
     "metadata": {},
     "output_type": "execute_result"
    }
   ],
   "source": [
    "s2>s1"
   ]
  },
  {
   "cell_type": "code",
   "execution_count": 42,
   "id": "6797413a",
   "metadata": {},
   "outputs": [
    {
     "data": {
      "text/plain": [
       "False"
      ]
     },
     "execution_count": 42,
     "metadata": {},
     "output_type": "execute_result"
    }
   ],
   "source": [
    "s1=\"mysirg ok\"\n",
    "s2=\"saurabh\"\n",
    "s1>s2"
   ]
  },
  {
   "cell_type": "code",
   "execution_count": 44,
   "id": "08dc14f4",
   "metadata": {},
   "outputs": [
    {
     "ename": "TypeError",
     "evalue": "unsupported operand type(s) for /: 'str' and 'str'",
     "output_type": "error",
     "traceback": [
      "\u001b[1;31m---------------------------------------------------------------------------\u001b[0m",
      "\u001b[1;31mTypeError\u001b[0m                                 Traceback (most recent call last)",
      "Input \u001b[1;32mIn [44]\u001b[0m, in \u001b[0;36m<cell line: 1>\u001b[1;34m()\u001b[0m\n\u001b[1;32m----> 1\u001b[0m \u001b[43ms1\u001b[49m\u001b[38;5;241;43m/\u001b[39;49m\u001b[43ms2\u001b[49m\n",
      "\u001b[1;31mTypeError\u001b[0m: unsupported operand type(s) for /: 'str' and 'str'"
     ]
    }
   ],
   "source": [
    "s1/s2"
   ]
  },
  {
   "cell_type": "code",
   "execution_count": 45,
   "id": "1d489048",
   "metadata": {},
   "outputs": [
    {
     "ename": "TypeError",
     "evalue": "can't multiply sequence by non-int of type 'str'",
     "output_type": "error",
     "traceback": [
      "\u001b[1;31m---------------------------------------------------------------------------\u001b[0m",
      "\u001b[1;31mTypeError\u001b[0m                                 Traceback (most recent call last)",
      "Input \u001b[1;32mIn [45]\u001b[0m, in \u001b[0;36m<cell line: 1>\u001b[1;34m()\u001b[0m\n\u001b[1;32m----> 1\u001b[0m \u001b[43ms1\u001b[49m\u001b[38;5;241;43m*\u001b[39;49m\u001b[43ms2\u001b[49m\n",
      "\u001b[1;31mTypeError\u001b[0m: can't multiply sequence by non-int of type 'str'"
     ]
    }
   ],
   "source": [
    "s1*s2\n"
   ]
  },
  {
   "cell_type": "code",
   "execution_count": null,
   "id": "1dbe95e8",
   "metadata": {},
   "outputs": [],
   "source": []
  }
 ],
 "metadata": {
  "kernelspec": {
   "display_name": "Python 3 (ipykernel)",
   "language": "python",
   "name": "python3"
  },
  "language_info": {
   "codemirror_mode": {
    "name": "ipython",
    "version": 3
   },
   "file_extension": ".py",
   "mimetype": "text/x-python",
   "name": "python",
   "nbconvert_exporter": "python",
   "pygments_lexer": "ipython3",
   "version": "3.9.12"
  }
 },
 "nbformat": 4,
 "nbformat_minor": 5
}
