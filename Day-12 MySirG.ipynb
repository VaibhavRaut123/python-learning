{
 "cells": [
  {
   "cell_type": "markdown",
   "id": "b7ed42d1",
   "metadata": {},
   "source": [
    "### str methods in python"
   ]
  },
  {
   "cell_type": "code",
   "execution_count": 1,
   "id": "263d3c19",
   "metadata": {},
   "outputs": [],
   "source": [
    "s1=\"mysirg education services\""
   ]
  },
  {
   "cell_type": "code",
   "execution_count": 2,
   "id": "887d2adb",
   "metadata": {},
   "outputs": [
    {
     "data": {
      "text/plain": [
       "str"
      ]
     },
     "execution_count": 2,
     "metadata": {},
     "output_type": "execute_result"
    }
   ],
   "source": [
    "type(s1)"
   ]
  },
  {
   "cell_type": "code",
   "execution_count": 3,
   "id": "43850126",
   "metadata": {},
   "outputs": [
    {
     "data": {
      "text/plain": [
       "25"
      ]
     },
     "execution_count": 3,
     "metadata": {},
     "output_type": "execute_result"
    }
   ],
   "source": [
    "len(s1)"
   ]
  },
  {
   "cell_type": "markdown",
   "id": "a02c12a6",
   "metadata": {},
   "source": [
    "### str object method"
   ]
  },
  {
   "cell_type": "markdown",
   "id": "582e41ee",
   "metadata": {},
   "source": [
    "### index()"
   ]
  },
  {
   "cell_type": "code",
   "execution_count": 4,
   "id": "9e46c714",
   "metadata": {},
   "outputs": [
    {
     "data": {
      "text/plain": [
       "3"
      ]
     },
     "execution_count": 4,
     "metadata": {},
     "output_type": "execute_result"
    }
   ],
   "source": [
    "s1.index('i')"
   ]
  },
  {
   "cell_type": "code",
   "execution_count": 5,
   "id": "371ca421",
   "metadata": {},
   "outputs": [
    {
     "data": {
      "text/plain": [
       "2"
      ]
     },
     "execution_count": 5,
     "metadata": {},
     "output_type": "execute_result"
    }
   ],
   "source": [
    "s1.index('sir')"
   ]
  },
  {
   "cell_type": "markdown",
   "id": "14ed6fa2",
   "metadata": {},
   "source": [
    "### count()"
   ]
  },
  {
   "cell_type": "code",
   "execution_count": 6,
   "id": "06a1a376",
   "metadata": {},
   "outputs": [
    {
     "ename": "NameError",
     "evalue": "name 'i' is not defined",
     "output_type": "error",
     "traceback": [
      "\u001b[1;31m---------------------------------------------------------------------------\u001b[0m",
      "\u001b[1;31mNameError\u001b[0m                                 Traceback (most recent call last)",
      "Input \u001b[1;32mIn [6]\u001b[0m, in \u001b[0;36m<cell line: 1>\u001b[1;34m()\u001b[0m\n\u001b[1;32m----> 1\u001b[0m s1\u001b[38;5;241m.\u001b[39mcount(\u001b[43mi\u001b[49m)\n",
      "\u001b[1;31mNameError\u001b[0m: name 'i' is not defined"
     ]
    }
   ],
   "source": [
    "s1.count(i)"
   ]
  },
  {
   "cell_type": "code",
   "execution_count": 7,
   "id": "7c0cf7ee",
   "metadata": {},
   "outputs": [
    {
     "data": {
      "text/plain": [
       "3"
      ]
     },
     "execution_count": 7,
     "metadata": {},
     "output_type": "execute_result"
    }
   ],
   "source": [
    "s1.count('i')"
   ]
  },
  {
   "cell_type": "code",
   "execution_count": 8,
   "id": "7a748288",
   "metadata": {},
   "outputs": [
    {
     "data": {
      "text/plain": [
       "2"
      ]
     },
     "execution_count": 8,
     "metadata": {},
     "output_type": "execute_result"
    }
   ],
   "source": [
    "s1.count(' ')"
   ]
  },
  {
   "cell_type": "code",
   "execution_count": 9,
   "id": "b94070f3",
   "metadata": {},
   "outputs": [
    {
     "data": {
      "text/plain": [
       "True"
      ]
     },
     "execution_count": 9,
     "metadata": {},
     "output_type": "execute_result"
    }
   ],
   "source": [
    "s1.startswith('my')"
   ]
  },
  {
   "cell_type": "code",
   "execution_count": 11,
   "id": "f80424ba",
   "metadata": {},
   "outputs": [
    {
     "data": {
      "text/plain": [
       "False"
      ]
     },
     "execution_count": 11,
     "metadata": {},
     "output_type": "execute_result"
    }
   ],
   "source": [
    "s1.startswith('My')"
   ]
  },
  {
   "cell_type": "code",
   "execution_count": 12,
   "id": "1730b23b",
   "metadata": {},
   "outputs": [
    {
     "data": {
      "text/plain": [
       "True"
      ]
     },
     "execution_count": 12,
     "metadata": {},
     "output_type": "execute_result"
    }
   ],
   "source": [
    "s1.endswith(\"services\")"
   ]
  },
  {
   "cell_type": "code",
   "execution_count": 13,
   "id": "8c03b17b",
   "metadata": {},
   "outputs": [
    {
     "ename": "SyntaxError",
     "evalue": "invalid syntax (693238182.py, line 1)",
     "output_type": "error",
     "traceback": [
      "\u001b[1;36m  Input \u001b[1;32mIn [13]\u001b[1;36m\u001b[0m\n\u001b[1;33m    s1.endswith\"service\"\u001b[0m\n\u001b[1;37m               ^\u001b[0m\n\u001b[1;31mSyntaxError\u001b[0m\u001b[1;31m:\u001b[0m invalid syntax\n"
     ]
    }
   ],
   "source": [
    "s1.endswith\"service\""
   ]
  },
  {
   "cell_type": "code",
   "execution_count": 14,
   "id": "7957c99d",
   "metadata": {},
   "outputs": [
    {
     "data": {
      "text/plain": [
       "False"
      ]
     },
     "execution_count": 14,
     "metadata": {},
     "output_type": "execute_result"
    }
   ],
   "source": [
    "s1.endswith('service')"
   ]
  },
  {
   "cell_type": "code",
   "execution_count": 15,
   "id": "10e18c9f",
   "metadata": {},
   "outputs": [],
   "source": [
    "s2='a123'"
   ]
  },
  {
   "cell_type": "code",
   "execution_count": 17,
   "id": "516938df",
   "metadata": {},
   "outputs": [
    {
     "data": {
      "text/plain": [
       "False"
      ]
     },
     "execution_count": 17,
     "metadata": {},
     "output_type": "execute_result"
    }
   ],
   "source": [
    "s2.isdigit()"
   ]
  },
  {
   "cell_type": "code",
   "execution_count": 18,
   "id": "040d3ed9",
   "metadata": {},
   "outputs": [],
   "source": [
    "s2='123'"
   ]
  },
  {
   "cell_type": "code",
   "execution_count": 19,
   "id": "83d11d44",
   "metadata": {},
   "outputs": [
    {
     "data": {
      "text/plain": [
       "True"
      ]
     },
     "execution_count": 19,
     "metadata": {},
     "output_type": "execute_result"
    }
   ],
   "source": [
    "s2.isdigit()"
   ]
  },
  {
   "cell_type": "code",
   "execution_count": 20,
   "id": "eff513d9",
   "metadata": {},
   "outputs": [
    {
     "data": {
      "text/plain": [
       "'mysirg education services'"
      ]
     },
     "execution_count": 20,
     "metadata": {},
     "output_type": "execute_result"
    }
   ],
   "source": [
    "s1.lower()"
   ]
  },
  {
   "cell_type": "code",
   "execution_count": 21,
   "id": "6bbf4076",
   "metadata": {},
   "outputs": [
    {
     "data": {
      "text/plain": [
       "'MYSIRG EDUCATION SERVICES'"
      ]
     },
     "execution_count": 21,
     "metadata": {},
     "output_type": "execute_result"
    }
   ],
   "source": [
    "s1.upper()"
   ]
  },
  {
   "cell_type": "code",
   "execution_count": 22,
   "id": "68f6e898",
   "metadata": {},
   "outputs": [
    {
     "data": {
      "text/plain": [
       "True"
      ]
     },
     "execution_count": 22,
     "metadata": {},
     "output_type": "execute_result"
    }
   ],
   "source": [
    "s1.islower()"
   ]
  },
  {
   "cell_type": "code",
   "execution_count": 23,
   "id": "040f4682",
   "metadata": {},
   "outputs": [
    {
     "data": {
      "text/plain": [
       "False"
      ]
     },
     "execution_count": 23,
     "metadata": {},
     "output_type": "execute_result"
    }
   ],
   "source": [
    "s1.isupper()"
   ]
  },
  {
   "cell_type": "code",
   "execution_count": 24,
   "id": "d211af2b",
   "metadata": {},
   "outputs": [
    {
     "data": {
      "text/plain": [
       "'mysirg education services'"
      ]
     },
     "execution_count": 24,
     "metadata": {},
     "output_type": "execute_result"
    }
   ],
   "source": [
    "s1"
   ]
  },
  {
   "cell_type": "code",
   "execution_count": 25,
   "id": "9bf29170",
   "metadata": {},
   "outputs": [
    {
     "name": "stdout",
     "output_type": "stream",
     "text": [
      "Help on method_descriptor:\n",
      "\n",
      "replace(self, old, new, count=-1, /)\n",
      "    Return a copy with all occurrences of substring old replaced by new.\n",
      "    \n",
      "      count\n",
      "        Maximum number of occurrences to replace.\n",
      "        -1 (the default value) means replace all occurrences.\n",
      "    \n",
      "    If the optional argument count is given, only the first count occurrences are\n",
      "    replaced.\n",
      "\n"
     ]
    }
   ],
   "source": [
    "help(str.replace)"
   ]
  },
  {
   "cell_type": "code",
   "execution_count": 26,
   "id": "0d4b2233",
   "metadata": {},
   "outputs": [
    {
     "data": {
      "text/plain": [
       "'mysirg education services'"
      ]
     },
     "execution_count": 26,
     "metadata": {},
     "output_type": "execute_result"
    }
   ],
   "source": [
    "s1"
   ]
  },
  {
   "cell_type": "code",
   "execution_count": 27,
   "id": "53b21a36",
   "metadata": {},
   "outputs": [
    {
     "data": {
      "text/plain": [
       "'Mysirg education services'"
      ]
     },
     "execution_count": 27,
     "metadata": {},
     "output_type": "execute_result"
    }
   ],
   "source": [
    "s1.replace('m','M')"
   ]
  },
  {
   "cell_type": "code",
   "execution_count": 30,
   "id": "ba0d21ca",
   "metadata": {},
   "outputs": [
    {
     "data": {
      "text/plain": [
       "'mysIrg educatIon servIces'"
      ]
     },
     "execution_count": 30,
     "metadata": {},
     "output_type": "execute_result"
    }
   ],
   "source": [
    "s1.replace('i','I', s1.count('i'))"
   ]
  },
  {
   "cell_type": "markdown",
   "id": "861196f5",
   "metadata": {},
   "source": [
    "### format function"
   ]
  },
  {
   "cell_type": "code",
   "execution_count": 31,
   "id": "02fa88f9",
   "metadata": {},
   "outputs": [
    {
     "ename": "SyntaxError",
     "evalue": "cannot assign to literal (1083621054.py, line 1)",
     "output_type": "error",
     "traceback": [
      "\u001b[1;36m  Input \u001b[1;32mIn [31]\u001b[1;36m\u001b[0m\n\u001b[1;33m    a=10,b=1\u001b[0m\n\u001b[1;37m      ^\u001b[0m\n\u001b[1;31mSyntaxError\u001b[0m\u001b[1;31m:\u001b[0m cannot assign to literal\n"
     ]
    }
   ],
   "source": [
    "a=10,b=1"
   ]
  },
  {
   "cell_type": "code",
   "execution_count": 32,
   "id": "8c4f1659",
   "metadata": {},
   "outputs": [],
   "source": [
    "a,b=10,20"
   ]
  },
  {
   "cell_type": "code",
   "execution_count": 33,
   "id": "1927996b",
   "metadata": {},
   "outputs": [],
   "source": [
    "s3=\"sum of {} and {} is {}\""
   ]
  },
  {
   "cell_type": "code",
   "execution_count": 34,
   "id": "12ae3e1e",
   "metadata": {},
   "outputs": [
    {
     "name": "stdout",
     "output_type": "stream",
     "text": [
      "sum of {} and {} is {}\n"
     ]
    }
   ],
   "source": [
    "print(s3)"
   ]
  },
  {
   "cell_type": "code",
   "execution_count": 35,
   "id": "05a200f5",
   "metadata": {},
   "outputs": [
    {
     "data": {
      "text/plain": [
       "'sum of 10 and 20 is 30'"
      ]
     },
     "execution_count": 35,
     "metadata": {},
     "output_type": "execute_result"
    }
   ],
   "source": [
    "s3.format(a,b,a+b)"
   ]
  },
  {
   "cell_type": "code",
   "execution_count": 36,
   "id": "4509d88b",
   "metadata": {},
   "outputs": [],
   "source": [
    "s3=\"sum of {2} and {1} is {0}\""
   ]
  },
  {
   "cell_type": "code",
   "execution_count": 37,
   "id": "855c4aa9",
   "metadata": {},
   "outputs": [
    {
     "data": {
      "text/plain": [
       "'sum of 30 and 20 is 10'"
      ]
     },
     "execution_count": 37,
     "metadata": {},
     "output_type": "execute_result"
    }
   ],
   "source": [
    "s3.format(a,b,a+b)"
   ]
  },
  {
   "cell_type": "code",
   "execution_count": 38,
   "id": "63eafabc",
   "metadata": {},
   "outputs": [
    {
     "name": "stdout",
     "output_type": "stream",
     "text": [
      "saurabh how are you?\n"
     ]
    }
   ],
   "source": [
    "print(\"{} how are you?\".format(\"saurabh\"))"
   ]
  },
  {
   "cell_type": "code",
   "execution_count": 39,
   "id": "035707cf",
   "metadata": {},
   "outputs": [
    {
     "name": "stdout",
     "output_type": "stream",
     "text": [
      "one, 25, 3.5\n"
     ]
    }
   ],
   "source": [
    "print(\"{}, {}, {}\".format(\"one\",25,3.5))"
   ]
  },
  {
   "cell_type": "code",
   "execution_count": 40,
   "id": "cae4113d",
   "metadata": {},
   "outputs": [
    {
     "name": "stdout",
     "output_type": "stream",
     "text": [
      "30,20,10\n"
     ]
    }
   ],
   "source": [
    "print(\"{2},{1},{0}\" .format(10,20,30))"
   ]
  },
  {
   "cell_type": "markdown",
   "id": "12000d47",
   "metadata": {},
   "source": [
    "### split and join"
   ]
  },
  {
   "cell_type": "code",
   "execution_count": 41,
   "id": "c2de9e31",
   "metadata": {},
   "outputs": [],
   "source": [
    "s1=\"mysirg education services private limited\""
   ]
  },
  {
   "cell_type": "code",
   "execution_count": 42,
   "id": "519c4c40",
   "metadata": {},
   "outputs": [
    {
     "data": {
      "text/plain": [
       "'mysirg education services private limited'"
      ]
     },
     "execution_count": 42,
     "metadata": {},
     "output_type": "execute_result"
    }
   ],
   "source": [
    "s1"
   ]
  },
  {
   "cell_type": "code",
   "execution_count": 43,
   "id": "c0b4244e",
   "metadata": {},
   "outputs": [
    {
     "data": {
      "text/plain": [
       "['mysirg', 'education', 'services', 'private', 'limited']"
      ]
     },
     "execution_count": 43,
     "metadata": {},
     "output_type": "execute_result"
    }
   ],
   "source": [
    "s1.split(\" \") #split on the basis of space in words"
   ]
  },
  {
   "cell_type": "code",
   "execution_count": 44,
   "id": "7ccd84bc",
   "metadata": {},
   "outputs": [],
   "source": [
    "#s1.split() always return list of strings"
   ]
  },
  {
   "cell_type": "code",
   "execution_count": 45,
   "id": "aee46432",
   "metadata": {},
   "outputs": [
    {
     "name": "stdout",
     "output_type": "stream",
     "text": [
      "enter numbers separeted by comma  10,20,30,40,50,60\n"
     ]
    }
   ],
   "source": [
    "s2=input(\"enter numbers separeted by comma  \") #input is taken always in str unless specified"
   ]
  },
  {
   "cell_type": "code",
   "execution_count": 46,
   "id": "43b1da33",
   "metadata": {},
   "outputs": [
    {
     "data": {
      "text/plain": [
       "'10,20,30,40,50,60'"
      ]
     },
     "execution_count": 46,
     "metadata": {},
     "output_type": "execute_result"
    }
   ],
   "source": [
    "s2 # '10,20,30,40,50,60' it is a single string"
   ]
  },
  {
   "cell_type": "code",
   "execution_count": 47,
   "id": "bd9aa74a",
   "metadata": {},
   "outputs": [],
   "source": [
    "l1=s2.split(\",\")"
   ]
  },
  {
   "cell_type": "code",
   "execution_count": 48,
   "id": "5c9ca577",
   "metadata": {},
   "outputs": [
    {
     "data": {
      "text/plain": [
       "['10', '20', '30', '40', '50', '60']"
      ]
     },
     "execution_count": 48,
     "metadata": {},
     "output_type": "execute_result"
    }
   ],
   "source": [
    "l1 # l1 cntains list of stings separeted by comma"
   ]
  },
  {
   "cell_type": "code",
   "execution_count": 49,
   "id": "0478c176",
   "metadata": {},
   "outputs": [],
   "source": [
    "l2=[int(x) for x in l1]"
   ]
  },
  {
   "cell_type": "code",
   "execution_count": 50,
   "id": "421ae2ab",
   "metadata": {},
   "outputs": [
    {
     "data": {
      "text/plain": [
       "[10, 20, 30, 40, 50, 60]"
      ]
     },
     "execution_count": 50,
     "metadata": {},
     "output_type": "execute_result"
    }
   ],
   "source": [
    "l2 # l2 contains list of integers"
   ]
  },
  {
   "cell_type": "code",
   "execution_count": 65,
   "id": "ca010895",
   "metadata": {},
   "outputs": [
    {
     "name": "stdout",
     "output_type": "stream",
     "text": [
      "enter numbers separeted by comma 11,22,33,44,555,66,7,88,99\n"
     ]
    }
   ],
   "source": [
    "l3=[int(x) for x in input(\"enter numbers separeted by comma \").split(',')]"
   ]
  },
  {
   "cell_type": "code",
   "execution_count": 66,
   "id": "f4c06699",
   "metadata": {},
   "outputs": [
    {
     "data": {
      "text/plain": [
       "[11, 22, 33, 44, 555, 66, 7, 88, 99]"
      ]
     },
     "execution_count": 66,
     "metadata": {},
     "output_type": "execute_result"
    }
   ],
   "source": [
    "l3"
   ]
  },
  {
   "cell_type": "code",
   "execution_count": 67,
   "id": "cd8757a4",
   "metadata": {},
   "outputs": [
    {
     "data": {
      "text/plain": [
       "'mysirg education services private limited'"
      ]
     },
     "execution_count": 67,
     "metadata": {},
     "output_type": "execute_result"
    }
   ],
   "source": [
    "s1"
   ]
  },
  {
   "cell_type": "code",
   "execution_count": 69,
   "id": "558a7601",
   "metadata": {},
   "outputs": [],
   "source": [
    "l1=s1.split(' ')"
   ]
  },
  {
   "cell_type": "code",
   "execution_count": 70,
   "id": "022c5d4c",
   "metadata": {},
   "outputs": [
    {
     "data": {
      "text/plain": [
       "['mysirg', 'education', 'services', 'private', 'limited']"
      ]
     },
     "execution_count": 70,
     "metadata": {},
     "output_type": "execute_result"
    }
   ],
   "source": [
    "l1"
   ]
  },
  {
   "cell_type": "code",
   "execution_count": 71,
   "id": "a74df873",
   "metadata": {},
   "outputs": [
    {
     "data": {
      "text/plain": [
       "'mysirg-education-services-private-limited'"
      ]
     },
     "execution_count": 71,
     "metadata": {},
     "output_type": "execute_result"
    }
   ],
   "source": [
    "'-'.join(l1)"
   ]
  },
  {
   "cell_type": "code",
   "execution_count": 72,
   "id": "32438c7b",
   "metadata": {},
   "outputs": [
    {
     "data": {
      "text/plain": [
       "'mysirg_education_services_private_limited'"
      ]
     },
     "execution_count": 72,
     "metadata": {},
     "output_type": "execute_result"
    }
   ],
   "source": [
    "'_'.join(l1)"
   ]
  },
  {
   "cell_type": "code",
   "execution_count": 73,
   "id": "1dcdd8b9",
   "metadata": {},
   "outputs": [],
   "source": [
    "s2='a b c'"
   ]
  },
  {
   "cell_type": "code",
   "execution_count": 74,
   "id": "1aec8315",
   "metadata": {},
   "outputs": [],
   "source": [
    "l2=s2.split(' ')"
   ]
  },
  {
   "cell_type": "code",
   "execution_count": 75,
   "id": "ccf3ab9c",
   "metadata": {},
   "outputs": [
    {
     "data": {
      "text/plain": [
       "['a', 'b', 'c']"
      ]
     },
     "execution_count": 75,
     "metadata": {},
     "output_type": "execute_result"
    }
   ],
   "source": [
    "l2"
   ]
  },
  {
   "cell_type": "code",
   "execution_count": 76,
   "id": "b68d4433",
   "metadata": {},
   "outputs": [
    {
     "data": {
      "text/plain": [
       "'a-b-c'"
      ]
     },
     "execution_count": 76,
     "metadata": {},
     "output_type": "execute_result"
    }
   ],
   "source": [
    "'-'.join(l2)"
   ]
  },
  {
   "cell_type": "code",
   "execution_count": null,
   "id": "4180f806",
   "metadata": {},
   "outputs": [],
   "source": []
  }
 ],
 "metadata": {
  "kernelspec": {
   "display_name": "Python 3 (ipykernel)",
   "language": "python",
   "name": "python3"
  },
  "language_info": {
   "codemirror_mode": {
    "name": "ipython",
    "version": 3
   },
   "file_extension": ".py",
   "mimetype": "text/x-python",
   "name": "python",
   "nbconvert_exporter": "python",
   "pygments_lexer": "ipython3",
   "version": "3.9.12"
  }
 },
 "nbformat": 4,
 "nbformat_minor": 5
}
