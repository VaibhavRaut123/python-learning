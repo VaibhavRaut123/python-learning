{
 "cells": [
  {
   "cell_type": "markdown",
   "id": "fb8dc42a",
   "metadata": {},
   "source": [
    "### Loop based problem"
   ]
  },
  {
   "cell_type": "code",
   "execution_count": 1,
   "id": "499a6c4f",
   "metadata": {},
   "outputs": [],
   "source": [
    "# while\n",
    "# for\n",
    "# do while loop is not in python"
   ]
  },
  {
   "cell_type": "code",
   "execution_count": 3,
   "id": "d68b3252",
   "metadata": {},
   "outputs": [
    {
     "name": "stdout",
     "output_type": "stream",
     "text": [
      "1 3 5 7 9 11 13 15 17 19 "
     ]
    }
   ],
   "source": [
    "# write a python script to print first 10 odd natural numbers\n",
    "i=1\n",
    "while i<=19:\n",
    "    print(i,end=\" \")\n",
    "    i+=2"
   ]
  },
  {
   "cell_type": "code",
   "execution_count": 4,
   "id": "d5e4a1a0",
   "metadata": {},
   "outputs": [
    {
     "name": "stdout",
     "output_type": "stream",
     "text": [
      "1 3 5 7 9 11 13 15 17 19 "
     ]
    }
   ],
   "source": [
    "i=1\n",
    "while i<=10:\n",
    "    print(i*2-1,end=\" \")\n",
    "    i+=1"
   ]
  },
  {
   "cell_type": "code",
   "execution_count": 5,
   "id": "fac33497",
   "metadata": {},
   "outputs": [
    {
     "name": "stdout",
     "output_type": "stream",
     "text": [
      "1 3 5 7 9 11 13 15 17 19 "
     ]
    }
   ],
   "source": [
    "for i in range (1,11):\n",
    "    print(2*i-1,end=\" \")\n",
    "    "
   ]
  },
  {
   "cell_type": "code",
   "execution_count": 13,
   "id": "7fc7e2ea",
   "metadata": {},
   "outputs": [
    {
     "name": "stdout",
     "output_type": "stream",
     "text": [
      "enter a number = \n",
      "10\n",
      "15\n",
      "LCM is 30\n"
     ]
    }
   ],
   "source": [
    "#  LCM (least common multiple) of two numbers\n",
    "print(\"enter a number = \")\n",
    "a=int(input())\n",
    "b=int(input())\n",
    "l= a if a>b else b\n",
    "while l<=a*b:\n",
    "    if l%a==0 and l%b==0:\n",
    "        print(\"LCM is\",l)\n",
    "        break\n",
    "    l+=1\n",
    "#else :\n",
    "        #print(\"no LCM\")"
   ]
  },
  {
   "cell_type": "code",
   "execution_count": null,
   "id": "df5d7c10",
   "metadata": {},
   "outputs": [],
   "source": []
  }
 ],
 "metadata": {
  "kernelspec": {
   "display_name": "Python 3 (ipykernel)",
   "language": "python",
   "name": "python3"
  },
  "language_info": {
   "codemirror_mode": {
    "name": "ipython",
    "version": 3
   },
   "file_extension": ".py",
   "mimetype": "text/x-python",
   "name": "python",
   "nbconvert_exporter": "python",
   "pygments_lexer": "ipython3",
   "version": "3.9.12"
  }
 },
 "nbformat": 4,
 "nbformat_minor": 5
}
