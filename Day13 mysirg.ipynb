{
 "cells": [
  {
   "cell_type": "markdown",
   "id": "ec33f08b",
   "metadata": {},
   "source": [
    "### slicing operator"
   ]
  },
  {
   "cell_type": "code",
   "execution_count": 1,
   "id": "6e1a4fe1",
   "metadata": {},
   "outputs": [],
   "source": [
    "s1='mysirg'"
   ]
  },
  {
   "cell_type": "code",
   "execution_count": 14,
   "id": "f2ee53f0",
   "metadata": {},
   "outputs": [
    {
     "data": {
      "text/plain": [
       "'mysir'"
      ]
     },
     "execution_count": 14,
     "metadata": {},
     "output_type": "execute_result"
    }
   ],
   "source": [
    "s1[0:5:1] # [beg:end:step] beg is inclusive and end is exclusive"
   ]
  },
  {
   "cell_type": "code",
   "execution_count": 3,
   "id": "ad906d7f",
   "metadata": {},
   "outputs": [
    {
     "data": {
      "text/plain": [
       "'mysirg'"
      ]
     },
     "execution_count": 3,
     "metadata": {},
     "output_type": "execute_result"
    }
   ],
   "source": [
    "s1[0:6:] # step not specified means 1"
   ]
  },
  {
   "cell_type": "code",
   "execution_count": 4,
   "id": "5567fade",
   "metadata": {},
   "outputs": [
    {
     "data": {
      "text/plain": [
       "'msr'"
      ]
     },
     "execution_count": 4,
     "metadata": {},
     "output_type": "execute_result"
    }
   ],
   "source": [
    "s1[0:6:2] # "
   ]
  },
  {
   "cell_type": "code",
   "execution_count": 5,
   "id": "95aa580a",
   "metadata": {},
   "outputs": [
    {
     "data": {
      "text/plain": [
       "'mysirg'"
      ]
     },
     "execution_count": 5,
     "metadata": {},
     "output_type": "execute_result"
    }
   ],
   "source": [
    "s1[0:10:1]"
   ]
  },
  {
   "cell_type": "code",
   "execution_count": 6,
   "id": "8d3153b0",
   "metadata": {},
   "outputs": [
    {
     "data": {
      "text/plain": [
       "'mi'"
      ]
     },
     "execution_count": 6,
     "metadata": {},
     "output_type": "execute_result"
    }
   ],
   "source": [
    "s1[0:6:3]"
   ]
  },
  {
   "cell_type": "code",
   "execution_count": 7,
   "id": "d8ae1386",
   "metadata": {},
   "outputs": [
    {
     "data": {
      "text/plain": [
       "'gris'"
      ]
     },
     "execution_count": 7,
     "metadata": {},
     "output_type": "execute_result"
    }
   ],
   "source": [
    "s1[5:1:-1]"
   ]
  },
  {
   "cell_type": "code",
   "execution_count": 15,
   "id": "d4967066",
   "metadata": {},
   "outputs": [
    {
     "data": {
      "text/plain": [
       "'mysir'"
      ]
     },
     "execution_count": 15,
     "metadata": {},
     "output_type": "execute_result"
    }
   ],
   "source": [
    "s1[:5:1] # beg not specified and step is positive then beg value will be index 0"
   ]
  },
  {
   "cell_type": "code",
   "execution_count": 16,
   "id": "701f3cc8",
   "metadata": {},
   "outputs": [
    {
     "data": {
      "text/plain": [
       "'grisy'"
      ]
     },
     "execution_count": 16,
     "metadata": {},
     "output_type": "execute_result"
    }
   ],
   "source": [
    "s1[:0:-1] # beg not specified and step is negative then beg value will be last index value"
   ]
  },
  {
   "cell_type": "code",
   "execution_count": 10,
   "id": "dcb1cfaf",
   "metadata": {},
   "outputs": [
    {
     "data": {
      "text/plain": [
       "'ysirg'"
      ]
     },
     "execution_count": 10,
     "metadata": {},
     "output_type": "execute_result"
    }
   ],
   "source": [
    "s1[1::1] # end not specified and step is positive then end value will be last index but inclusive "
   ]
  },
  {
   "cell_type": "code",
   "execution_count": 11,
   "id": "4b20ba7d",
   "metadata": {},
   "outputs": [
    {
     "data": {
      "text/plain": [
       "'grisym'"
      ]
     },
     "execution_count": 11,
     "metadata": {},
     "output_type": "execute_result"
    }
   ],
   "source": [
    "s1[5::-1]  # end not specified and step is negative then end value will be  index 0  ( not inclusive )"
   ]
  },
  {
   "cell_type": "code",
   "execution_count": 12,
   "id": "937f7d2f",
   "metadata": {},
   "outputs": [
    {
     "data": {
      "text/plain": [
       "'grisym'"
      ]
     },
     "execution_count": 12,
     "metadata": {},
     "output_type": "execute_result"
    }
   ],
   "source": [
    "s1[::-1]  # beg & end not specified and step is negative then whole string will return in revers order"
   ]
  },
  {
   "cell_type": "code",
   "execution_count": 13,
   "id": "1664d88f",
   "metadata": {},
   "outputs": [
    {
     "data": {
      "text/plain": [
       "'mysirg'"
      ]
     },
     "execution_count": 13,
     "metadata": {},
     "output_type": "execute_result"
    }
   ],
   "source": [
    "s1[::]"
   ]
  },
  {
   "cell_type": "code",
   "execution_count": 18,
   "id": "7beb92c7",
   "metadata": {},
   "outputs": [
    {
     "data": {
      "text/plain": [
       "'mysirg'"
      ]
     },
     "execution_count": 18,
     "metadata": {},
     "output_type": "execute_result"
    }
   ],
   "source": [
    "s1[::1]"
   ]
  },
  {
   "cell_type": "code",
   "execution_count": 20,
   "id": "3ed8ebbc",
   "metadata": {},
   "outputs": [
    {
     "name": "stdout",
     "output_type": "stream",
     "text": [
      "enter a string =  what is your name\n",
      "eman ruoy si tahw \n"
     ]
    }
   ],
   "source": [
    "a=input(\"enter a string = \")\n",
    "print(a[::-1])"
   ]
  },
  {
   "cell_type": "code",
   "execution_count": 21,
   "id": "1bfc48a0",
   "metadata": {},
   "outputs": [
    {
     "name": "stdout",
     "output_type": "stream",
     "text": [
      "enter a string mysirg education private limited\n"
     ]
    },
    {
     "data": {
      "text/plain": [
       "['limited', 'private', 'education', 'mysirg']"
      ]
     },
     "execution_count": 21,
     "metadata": {},
     "output_type": "execute_result"
    }
   ],
   "source": [
    "input(\"enter a string \").split(' ')[::-1]"
   ]
  },
  {
   "cell_type": "code",
   "execution_count": 27,
   "id": "52613a1d",
   "metadata": {},
   "outputs": [
    {
     "name": "stdout",
     "output_type": "stream",
     "text": [
      "enter a string mysirg education private limited\n"
     ]
    },
    {
     "data": {
      "text/plain": [
       "'limited-private-education-mysirg'"
      ]
     },
     "execution_count": 27,
     "metadata": {},
     "output_type": "execute_result"
    }
   ],
   "source": [
    "# write a python script to reverse a given string word wise\n",
    "'-'.join(input(\"enter a string \").split(' ')[::-1])"
   ]
  },
  {
   "cell_type": "code",
   "execution_count": null,
   "id": "3b541eb8",
   "metadata": {},
   "outputs": [],
   "source": []
  }
 ],
 "metadata": {
  "kernelspec": {
   "display_name": "Python 3 (ipykernel)",
   "language": "python",
   "name": "python3"
  },
  "language_info": {
   "codemirror_mode": {
    "name": "ipython",
    "version": 3
   },
   "file_extension": ".py",
   "mimetype": "text/x-python",
   "name": "python",
   "nbconvert_exporter": "python",
   "pygments_lexer": "ipython3",
   "version": "3.9.12"
  }
 },
 "nbformat": 4,
 "nbformat_minor": 5
}
