{
 "cells": [
  {
   "cell_type": "markdown",
   "id": "dfbcf7be",
   "metadata": {},
   "source": [
    "### Type Conversion"
   ]
  },
  {
   "cell_type": "code",
   "execution_count": 1,
   "id": "6019b260",
   "metadata": {},
   "outputs": [
    {
     "ename": "TypeError",
     "evalue": "unsupported operand type(s) for +: 'int' and 'str'",
     "output_type": "error",
     "traceback": [
      "\u001b[1;31m---------------------------------------------------------------------------\u001b[0m",
      "\u001b[1;31mTypeError\u001b[0m                                 Traceback (most recent call last)",
      "Input \u001b[1;32mIn [1]\u001b[0m, in \u001b[0;36m<cell line: 1>\u001b[1;34m()\u001b[0m\n\u001b[1;32m----> 1\u001b[0m \u001b[38;5;241;43m5\u001b[39;49m\u001b[38;5;241;43m+\u001b[39;49m\u001b[38;5;124;43m\"\u001b[39;49m\u001b[38;5;124;43m5\u001b[39;49m\u001b[38;5;124;43m\"\u001b[39;49m\n",
      "\u001b[1;31mTypeError\u001b[0m: unsupported operand type(s) for +: 'int' and 'str'"
     ]
    }
   ],
   "source": [
    "5+\"5\"#type error"
   ]
  },
  {
   "cell_type": "code",
   "execution_count": 3,
   "id": "da679df6",
   "metadata": {},
   "outputs": [
    {
     "data": {
      "text/plain": [
       "'abcdef'"
      ]
     },
     "execution_count": 3,
     "metadata": {},
     "output_type": "execute_result"
    }
   ],
   "source": [
    "\"abc\"+ \"def\" #concatenate"
   ]
  },
  {
   "cell_type": "code",
   "execution_count": 4,
   "id": "237124e1",
   "metadata": {},
   "outputs": [
    {
     "data": {
      "text/plain": [
       "'55'"
      ]
     },
     "execution_count": 4,
     "metadata": {},
     "output_type": "execute_result"
    }
   ],
   "source": [
    "\"5\"+\"5\""
   ]
  },
  {
   "cell_type": "code",
   "execution_count": 5,
   "id": "902544c5",
   "metadata": {},
   "outputs": [
    {
     "data": {
      "text/plain": [
       "'55'"
      ]
     },
     "execution_count": 5,
     "metadata": {},
     "output_type": "execute_result"
    }
   ],
   "source": [
    "str(5)+\"5\""
   ]
  },
  {
   "cell_type": "code",
   "execution_count": 8,
   "id": "aaf3eb9c",
   "metadata": {},
   "outputs": [
    {
     "data": {
      "text/plain": [
       "10"
      ]
     },
     "execution_count": 8,
     "metadata": {},
     "output_type": "execute_result"
    }
   ],
   "source": [
    "5+int(\"5\")"
   ]
  },
  {
   "cell_type": "code",
   "execution_count": 9,
   "id": "d348177e",
   "metadata": {},
   "outputs": [
    {
     "data": {
      "text/plain": [
       "4"
      ]
     },
     "execution_count": 9,
     "metadata": {},
     "output_type": "execute_result"
    }
   ],
   "source": [
    "x=4.5\n",
    "int(x)"
   ]
  },
  {
   "cell_type": "code",
   "execution_count": 10,
   "id": "d58b1828",
   "metadata": {},
   "outputs": [
    {
     "data": {
      "text/plain": [
       "5.0"
      ]
     },
     "execution_count": 10,
     "metadata": {},
     "output_type": "execute_result"
    }
   ],
   "source": [
    "x=5\n",
    "float(x)"
   ]
  },
  {
   "cell_type": "code",
   "execution_count": 11,
   "id": "9876d047",
   "metadata": {},
   "outputs": [
    {
     "data": {
      "text/plain": [
       "5"
      ]
     },
     "execution_count": 11,
     "metadata": {},
     "output_type": "execute_result"
    }
   ],
   "source": [
    "x"
   ]
  },
  {
   "cell_type": "code",
   "execution_count": 12,
   "id": "5a8a27a0",
   "metadata": {},
   "outputs": [],
   "source": [
    "y=float(x)"
   ]
  },
  {
   "cell_type": "code",
   "execution_count": 13,
   "id": "1ca4cb49",
   "metadata": {},
   "outputs": [
    {
     "data": {
      "text/plain": [
       "5"
      ]
     },
     "execution_count": 13,
     "metadata": {},
     "output_type": "execute_result"
    }
   ],
   "source": [
    "x"
   ]
  },
  {
   "cell_type": "code",
   "execution_count": 14,
   "id": "6e8e75cf",
   "metadata": {},
   "outputs": [
    {
     "data": {
      "text/plain": [
       "5.0"
      ]
     },
     "execution_count": 14,
     "metadata": {},
     "output_type": "execute_result"
    }
   ],
   "source": [
    "y"
   ]
  },
  {
   "cell_type": "code",
   "execution_count": 15,
   "id": "13d5b751",
   "metadata": {},
   "outputs": [],
   "source": [
    "x=\"abc\""
   ]
  },
  {
   "cell_type": "code",
   "execution_count": 16,
   "id": "1e49cf64",
   "metadata": {},
   "outputs": [
    {
     "data": {
      "text/plain": [
       "str"
      ]
     },
     "execution_count": 16,
     "metadata": {},
     "output_type": "execute_result"
    }
   ],
   "source": [
    "type(x)"
   ]
  },
  {
   "cell_type": "code",
   "execution_count": 18,
   "id": "202e980a",
   "metadata": {},
   "outputs": [
    {
     "ename": "ValueError",
     "evalue": "invalid literal for int() with base 10: 'abc'",
     "output_type": "error",
     "traceback": [
      "\u001b[1;31m---------------------------------------------------------------------------\u001b[0m",
      "\u001b[1;31mValueError\u001b[0m                                Traceback (most recent call last)",
      "Input \u001b[1;32mIn [18]\u001b[0m, in \u001b[0;36m<cell line: 1>\u001b[1;34m()\u001b[0m\n\u001b[1;32m----> 1\u001b[0m \u001b[38;5;28;43mint\u001b[39;49m\u001b[43m(\u001b[49m\u001b[43mx\u001b[49m\u001b[43m)\u001b[49m\n",
      "\u001b[1;31mValueError\u001b[0m: invalid literal for int() with base 10: 'abc'"
     ]
    }
   ],
   "source": [
    "int(x) #value error"
   ]
  },
  {
   "cell_type": "code",
   "execution_count": 19,
   "id": "a4e7342d",
   "metadata": {},
   "outputs": [],
   "source": [
    "x=\"234\""
   ]
  },
  {
   "cell_type": "code",
   "execution_count": 21,
   "id": "f7e8a1fe",
   "metadata": {},
   "outputs": [
    {
     "data": {
      "text/plain": [
       "str"
      ]
     },
     "execution_count": 21,
     "metadata": {},
     "output_type": "execute_result"
    }
   ],
   "source": [
    "type(x)"
   ]
  },
  {
   "cell_type": "code",
   "execution_count": 22,
   "id": "5d81c507",
   "metadata": {},
   "outputs": [
    {
     "data": {
      "text/plain": [
       "234"
      ]
     },
     "execution_count": 22,
     "metadata": {},
     "output_type": "execute_result"
    }
   ],
   "source": [
    "int(x)"
   ]
  },
  {
   "cell_type": "code",
   "execution_count": 23,
   "id": "0c67d750",
   "metadata": {},
   "outputs": [],
   "source": [
    "x=\"2.34\""
   ]
  },
  {
   "cell_type": "code",
   "execution_count": 24,
   "id": "d67f9bce",
   "metadata": {},
   "outputs": [
    {
     "ename": "ValueError",
     "evalue": "invalid literal for int() with base 10: '2.34'",
     "output_type": "error",
     "traceback": [
      "\u001b[1;31m---------------------------------------------------------------------------\u001b[0m",
      "\u001b[1;31mValueError\u001b[0m                                Traceback (most recent call last)",
      "Input \u001b[1;32mIn [24]\u001b[0m, in \u001b[0;36m<cell line: 1>\u001b[1;34m()\u001b[0m\n\u001b[1;32m----> 1\u001b[0m \u001b[38;5;28;43mint\u001b[39;49m\u001b[43m(\u001b[49m\u001b[43mx\u001b[49m\u001b[43m)\u001b[49m\n",
      "\u001b[1;31mValueError\u001b[0m: invalid literal for int() with base 10: '2.34'"
     ]
    }
   ],
   "source": [
    "int(x) #value error"
   ]
  },
  {
   "cell_type": "code",
   "execution_count": 25,
   "id": "1d2dd473",
   "metadata": {},
   "outputs": [],
   "source": [
    "x=2.4"
   ]
  },
  {
   "cell_type": "code",
   "execution_count": 26,
   "id": "441e8879",
   "metadata": {},
   "outputs": [
    {
     "data": {
      "text/plain": [
       "(2.4+0j)"
      ]
     },
     "execution_count": 26,
     "metadata": {},
     "output_type": "execute_result"
    }
   ],
   "source": [
    "complex(x)"
   ]
  },
  {
   "cell_type": "code",
   "execution_count": 27,
   "id": "2f1b76d0",
   "metadata": {},
   "outputs": [
    {
     "data": {
      "text/plain": [
       "True"
      ]
     },
     "execution_count": 27,
     "metadata": {},
     "output_type": "execute_result"
    }
   ],
   "source": [
    "bool(x) #every non zero value is true in case of bool"
   ]
  },
  {
   "cell_type": "code",
   "execution_count": 28,
   "id": "98d4e2b6",
   "metadata": {},
   "outputs": [],
   "source": [
    "x=\"abc\""
   ]
  },
  {
   "cell_type": "code",
   "execution_count": 29,
   "id": "af329174",
   "metadata": {},
   "outputs": [
    {
     "data": {
      "text/plain": [
       "True"
      ]
     },
     "execution_count": 29,
     "metadata": {},
     "output_type": "execute_result"
    }
   ],
   "source": [
    "bool(x)"
   ]
  },
  {
   "cell_type": "code",
   "execution_count": 30,
   "id": "303239b2",
   "metadata": {},
   "outputs": [],
   "source": [
    "x=0"
   ]
  },
  {
   "cell_type": "code",
   "execution_count": 31,
   "id": "3037b6d1",
   "metadata": {},
   "outputs": [
    {
     "data": {
      "text/plain": [
       "False"
      ]
     },
     "execution_count": 31,
     "metadata": {},
     "output_type": "execute_result"
    }
   ],
   "source": [
    "bool(x)"
   ]
  },
  {
   "cell_type": "code",
   "execution_count": 32,
   "id": "a8d28865",
   "metadata": {},
   "outputs": [],
   "source": [
    "x=\"abc12\""
   ]
  },
  {
   "cell_type": "code",
   "execution_count": 34,
   "id": "75f818c4",
   "metadata": {},
   "outputs": [
    {
     "ename": "ValueError",
     "evalue": "invalid literal for int() with base 10: 'abc12'",
     "output_type": "error",
     "traceback": [
      "\u001b[1;31m---------------------------------------------------------------------------\u001b[0m",
      "\u001b[1;31mValueError\u001b[0m                                Traceback (most recent call last)",
      "Input \u001b[1;32mIn [34]\u001b[0m, in \u001b[0;36m<cell line: 1>\u001b[1;34m()\u001b[0m\n\u001b[1;32m----> 1\u001b[0m \u001b[38;5;28;43mint\u001b[39;49m\u001b[43m(\u001b[49m\u001b[43mx\u001b[49m\u001b[43m)\u001b[49m\n",
      "\u001b[1;31mValueError\u001b[0m: invalid literal for int() with base 10: 'abc12'"
     ]
    }
   ],
   "source": [
    "int(x) #value error"
   ]
  },
  {
   "cell_type": "markdown",
   "id": "8255a03a",
   "metadata": {},
   "source": [
    "##### function for coversions"
   ]
  },
  {
   "cell_type": "code",
   "execution_count": 36,
   "id": "b4165513",
   "metadata": {},
   "outputs": [],
   "source": [
    "### bin() to convrt in binary\n",
    "# oct() to conver in octane\n",
    "# hex() to convert in hexane\n",
    "# ord()  to convert in unicode\n",
    "# chr()"
   ]
  },
  {
   "cell_type": "code",
   "execution_count": 37,
   "id": "f8c68e35",
   "metadata": {},
   "outputs": [],
   "source": [
    "x=25"
   ]
  },
  {
   "cell_type": "code",
   "execution_count": 38,
   "id": "e2fec796",
   "metadata": {},
   "outputs": [
    {
     "data": {
      "text/plain": [
       "'0b11001'"
      ]
     },
     "execution_count": 38,
     "metadata": {},
     "output_type": "execute_result"
    }
   ],
   "source": [
    "bin(x)"
   ]
  },
  {
   "cell_type": "code",
   "execution_count": 39,
   "id": "0ca4a47d",
   "metadata": {},
   "outputs": [],
   "source": [
    "y=bin(x)"
   ]
  },
  {
   "cell_type": "code",
   "execution_count": 40,
   "id": "7da1a0e5",
   "metadata": {},
   "outputs": [
    {
     "data": {
      "text/plain": [
       "str"
      ]
     },
     "execution_count": 40,
     "metadata": {},
     "output_type": "execute_result"
    }
   ],
   "source": [
    "type(y)"
   ]
  },
  {
   "cell_type": "code",
   "execution_count": 41,
   "id": "a3551502",
   "metadata": {},
   "outputs": [
    {
     "data": {
      "text/plain": [
       "'0x19'"
      ]
     },
     "execution_count": 41,
     "metadata": {},
     "output_type": "execute_result"
    }
   ],
   "source": [
    "hex(x)"
   ]
  },
  {
   "cell_type": "code",
   "execution_count": 42,
   "id": "50b3301f",
   "metadata": {},
   "outputs": [
    {
     "data": {
      "text/plain": [
       "'0o31'"
      ]
     },
     "execution_count": 42,
     "metadata": {},
     "output_type": "execute_result"
    }
   ],
   "source": [
    "oct(x)"
   ]
  },
  {
   "cell_type": "code",
   "execution_count": 43,
   "id": "8c063e93",
   "metadata": {},
   "outputs": [
    {
     "data": {
      "text/plain": [
       "97"
      ]
     },
     "execution_count": 43,
     "metadata": {},
     "output_type": "execute_result"
    }
   ],
   "source": [
    "ord(\"a\")#unicode"
   ]
  },
  {
   "cell_type": "code",
   "execution_count": 45,
   "id": "51fde5b9",
   "metadata": {},
   "outputs": [
    {
     "data": {
      "text/plain": [
       "'a'"
      ]
     },
     "execution_count": 45,
     "metadata": {},
     "output_type": "execute_result"
    }
   ],
   "source": [
    "chr(97)"
   ]
  },
  {
   "cell_type": "markdown",
   "id": "d0ee32b5",
   "metadata": {},
   "source": [
    "### Programme to add two numbers"
   ]
  },
  {
   "cell_type": "code",
   "execution_count": 46,
   "id": "03cbfa17",
   "metadata": {},
   "outputs": [
    {
     "name": "stdout",
     "output_type": "stream",
     "text": [
      "enter three numbers\n",
      "10\n",
      "12\n",
      "13\n",
      "sum is 35\n"
     ]
    }
   ],
   "source": [
    "print(\"enter three numbers\")\n",
    "a,b,c=int(input()),int(input()),int(input())\n",
    "d=a+b+c\n",
    "print(\"sum is\", d)"
   ]
  },
  {
   "cell_type": "code",
   "execution_count": 47,
   "id": "eb6c4ddc",
   "metadata": {},
   "outputs": [
    {
     "ename": "NameError",
     "evalue": "name 'Print' is not defined",
     "output_type": "error",
     "traceback": [
      "\u001b[1;31m---------------------------------------------------------------------------\u001b[0m",
      "\u001b[1;31mNameError\u001b[0m                                 Traceback (most recent call last)",
      "Input \u001b[1;32mIn [47]\u001b[0m, in \u001b[0;36m<cell line: 1>\u001b[1;34m()\u001b[0m\n\u001b[1;32m----> 1\u001b[0m \u001b[43mPrint\u001b[49m(\u001b[38;5;124m\"\u001b[39m\u001b[38;5;124mtesting capital P\u001b[39m\u001b[38;5;124m\"\u001b[39m)\n",
      "\u001b[1;31mNameError\u001b[0m: name 'Print' is not defined"
     ]
    }
   ],
   "source": [
    "Print(\"testing capital P\")"
   ]
  },
  {
   "cell_type": "markdown",
   "id": "365e7311",
   "metadata": {},
   "source": [
    " ### Decision COntrol"
   ]
  },
  {
   "cell_type": "markdown",
   "id": "f68f1aac",
   "metadata": {},
   "source": [
    "#### if condition"
   ]
  },
  {
   "cell_type": "code",
   "execution_count": 50,
   "id": "428eedb5",
   "metadata": {},
   "outputs": [
    {
     "name": "stdout",
     "output_type": "stream",
     "text": [
      "bye\n"
     ]
    }
   ],
   "source": [
    "x=-2\n",
    "if x>0:\n",
    "    print(\"positive number\")\n",
    "print(\"bye\")"
   ]
  },
  {
   "cell_type": "code",
   "execution_count": 54,
   "id": "502505fc",
   "metadata": {},
   "outputs": [
    {
     "name": "stdout",
     "output_type": "stream",
     "text": [
      "hellow\n",
      "mysirg\n",
      "ok\n"
     ]
    }
   ],
   "source": [
    "x=2\n",
    "if  x>0:\n",
    "    print(\"hellow\")\n",
    "    print(\"mysirg\")\n",
    "print(\"ok\")"
   ]
  },
  {
   "cell_type": "markdown",
   "id": "5df63dfc",
   "metadata": {},
   "source": [
    "### if else"
   ]
  },
  {
   "cell_type": "code",
   "execution_count": 56,
   "id": "7239f528",
   "metadata": {},
   "outputs": [
    {
     "name": "stdout",
     "output_type": "stream",
     "text": [
      "enter your number 0\n",
      " non positive\n"
     ]
    }
   ],
   "source": [
    "x=int(input(\"enter your number \"))\n",
    "if x>0 :\n",
    "    print('positive')\n",
    "else :\n",
    "    print(\" non positive\")"
   ]
  },
  {
   "cell_type": "markdown",
   "id": "0a87b6ce",
   "metadata": {},
   "source": [
    "#### if elif else"
   ]
  },
  {
   "cell_type": "code",
   "execution_count": 63,
   "id": "d98c9e09",
   "metadata": {},
   "outputs": [
    {
     "name": "stdout",
     "output_type": "stream",
     "text": [
      "enetr your marks from 0 to 100 :95\n",
      "A grade\n"
     ]
    }
   ],
   "source": [
    "x=int(input(\"enetr your marks from 0 to 100 :\"))\n",
    "if x>90 and x<=100 :\n",
    "    print(\"A grade\")\n",
    "elif x>80 and x<=90 :\n",
    "    print (\"B grade\")\n",
    "elif x>70 and x<=80 :\n",
    "    print (\"c\")\n",
    "elif x>60 and x<=70 :\n",
    "    print(\"D\")\n",
    "elif x>50 and x<=60 :\n",
    "    print (\"E\")\n",
    "else :\n",
    "    print (\"F\")"
   ]
  },
  {
   "cell_type": "code",
   "execution_count": 64,
   "id": "8f85205f",
   "metadata": {},
   "outputs": [
    {
     "name": "stdout",
     "output_type": "stream",
     "text": [
      "enetr your marks from 0 to 100 :65\n",
      "D\n"
     ]
    }
   ],
   "source": [
    "x=int(input(\"enetr your marks from 0 to 100 :\"))\n",
    "if x>90 :\n",
    "    print(\"A grade\")\n",
    "elif x>80 :\n",
    "    print (\"B grade\")\n",
    "elif x>70 :\n",
    "    print (\"c\")\n",
    "elif x>60 :\n",
    "    print(\"D\")\n",
    "elif x>50 :\n",
    "    print (\"E\")\n",
    "else :\n",
    "    print (\"F\")"
   ]
  },
  {
   "cell_type": "markdown",
   "id": "a986eb5d",
   "metadata": {},
   "source": [
    "### single line if else"
   ]
  },
  {
   "cell_type": "code",
   "execution_count": 69,
   "id": "1b070677",
   "metadata": {},
   "outputs": [
    {
     "name": "stdout",
     "output_type": "stream",
     "text": [
      "enter the number  15\n",
      "odd\n"
     ]
    }
   ],
   "source": [
    "# write a programme to check whether a given number is even or odd\n",
    "x= int (input(\"enter the number  \")) #if else\n",
    "if x%2==0 :\n",
    "    print(\"even\") \n",
    "else :\n",
    "        print(\"odd\")"
   ]
  },
  {
   "cell_type": "code",
   "execution_count": 70,
   "id": "6642838a",
   "metadata": {},
   "outputs": [
    {
     "name": "stdout",
     "output_type": "stream",
     "text": [
      "enter number 10\n",
      "even\n"
     ]
    }
   ],
   "source": [
    "print(\"even\" if int(input(\"enter number \"))%2==0 else \"odd\") #single line if else"
   ]
  },
  {
   "cell_type": "markdown",
   "id": "b4abbfb4",
   "metadata": {},
   "source": [
    "### Practise problem"
   ]
  },
  {
   "cell_type": "code",
   "execution_count": 74,
   "id": "31569b6a",
   "metadata": {},
   "outputs": [
    {
     "name": "stdout",
     "output_type": "stream",
     "text": [
      "enter lenght 10.9\n",
      "enter breadth 5\n",
      "Area of recteanle = 54.5\n"
     ]
    }
   ],
   "source": [
    "# code for area of rectangle\n",
    "l= float(input(\"enter lenght \"))\n",
    "b= float(input(\"enter breadth \"))\n",
    "a= l*b\n",
    "print(\"Area of recteanle =\",a)"
   ]
  },
  {
   "cell_type": "code",
   "execution_count": 80,
   "id": "d6e600a8",
   "metadata": {},
   "outputs": [
    {
     "name": "stdout",
     "output_type": "stream",
     "text": [
      "princle amount = 10000\n",
      "rate of interest per annum =12\n",
      "time in years = 5\n",
      "simple interest = 6000.0\n"
     ]
    }
   ],
   "source": [
    "# calculate simple interest\n",
    "P = float(input(\"princle amount = \"))\n",
    "R = float(input(\"rate of interest per annum =\"))\n",
    "T = float(input(\"time in years = \"))\n",
    "s = P*R*T/100\n",
    "print(\"simple interest =\",s)"
   ]
  },
  {
   "cell_type": "code",
   "execution_count": 81,
   "id": "8b80c0b7",
   "metadata": {},
   "outputs": [],
   "source": [
    "# remove last digit from  a given number"
   ]
  },
  {
   "cell_type": "code",
   "execution_count": 85,
   "id": "48fb8759",
   "metadata": {},
   "outputs": [
    {
     "name": "stdout",
     "output_type": "stream",
     "text": [
      "enter no. = 155\n",
      " no is divisible by 5 \n"
     ]
    }
   ],
   "source": [
    "#whether no is divisible by 5 or not\n",
    "x=float(input(\"enter no. = \"))\n",
    "if x%5==0 :\n",
    "    print( \" no is divisible by 5 \")\n",
    "else :\n",
    "    print(\"no is not divisible by 5\")"
   ]
  },
  {
   "cell_type": "code",
   "execution_count": 91,
   "id": "2b13f66f",
   "metadata": {},
   "outputs": [
    {
     "name": "stdout",
     "output_type": "stream",
     "text": [
      "enter the year = 2014\n",
      "it's not a leap year\n"
     ]
    }
   ],
   "source": [
    "# leap year or not\n",
    "x=int(input(\"enter the year = \"))\n",
    "if x % 400 == 0 and x % 100 == 0 :\n",
    "    print(\"it's leap year\")\n",
    "elif x % 4 == 0 and x % 100 != 0 : # != not equals to\n",
    "    print(\"it's leap year\")\n",
    "else :\n",
    "    print(\"it's not a leap year\")"
   ]
  },
  {
   "cell_type": "code",
   "execution_count": 93,
   "id": "59b9c6f2",
   "metadata": {},
   "outputs": [
    {
     "name": "stdout",
     "output_type": "stream",
     "text": [
      " enter a num = 0\n",
      "zero\n"
     ]
    }
   ],
   "source": [
    " # num is +ve, -ve or zero\n",
    "x = float(input(\" enter a num = \"))\n",
    "if x > 0 : \n",
    "    print(\"positve num\")\n",
    "elif x < 0 :\n",
    "    print(\"nrgative number\")\n",
    "else :\n",
    "    print(\"zero\")"
   ]
  },
  {
   "cell_type": "code",
   "execution_count": null,
   "id": "07644b17",
   "metadata": {},
   "outputs": [],
   "source": [
    "# accept one complex number from user and display the greater number betwen real part and imagenery part "
   ]
  }
 ],
 "metadata": {
  "kernelspec": {
   "display_name": "Python 3 (ipykernel)",
   "language": "python",
   "name": "python3"
  },
  "language_info": {
   "codemirror_mode": {
    "name": "ipython",
    "version": 3
   },
   "file_extension": ".py",
   "mimetype": "text/x-python",
   "name": "python",
   "nbconvert_exporter": "python",
   "pygments_lexer": "ipython3",
   "version": "3.9.12"
  }
 },
 "nbformat": 4,
 "nbformat_minor": 5
}
