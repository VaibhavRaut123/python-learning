{
 "cells": [
  {
   "cell_type": "markdown",
   "id": "56c08146",
   "metadata": {},
   "source": [
    "### Dict"
   ]
  },
  {
   "cell_type": "markdown",
   "id": "bdf9f2ff",
   "metadata": {},
   "source": [
    "### create the dict object"
   ]
  },
  {
   "cell_type": "code",
   "execution_count": 14,
   "id": "085379ef",
   "metadata": {},
   "outputs": [],
   "source": [
    "d1={102:\"Rahul\",105:\"Payal\",106:\"Arjun\",107:\"prachi\"} # {key:value}"
   ]
  },
  {
   "cell_type": "code",
   "execution_count": 15,
   "id": "6bcd3b66",
   "metadata": {},
   "outputs": [
    {
     "data": {
      "text/plain": [
       "dict"
      ]
     },
     "execution_count": 15,
     "metadata": {},
     "output_type": "execute_result"
    }
   ],
   "source": [
    "type(d1)"
   ]
  },
  {
   "cell_type": "code",
   "execution_count": 16,
   "id": "d25c7334",
   "metadata": {},
   "outputs": [
    {
     "data": {
      "text/plain": [
       "{102: 'Rahul', 105: 'Payal', 106: 'Arjun', 107: 'prachi'}"
      ]
     },
     "execution_count": 16,
     "metadata": {},
     "output_type": "execute_result"
    }
   ],
   "source": [
    "d1"
   ]
  },
  {
   "cell_type": "code",
   "execution_count": 17,
   "id": "7ece5a02",
   "metadata": {},
   "outputs": [],
   "source": [
    "d2={}"
   ]
  },
  {
   "cell_type": "code",
   "execution_count": 18,
   "id": "7e0bad48",
   "metadata": {},
   "outputs": [
    {
     "data": {
      "text/plain": [
       "{}"
      ]
     },
     "execution_count": 18,
     "metadata": {},
     "output_type": "execute_result"
    }
   ],
   "source": [
    "d2"
   ]
  },
  {
   "cell_type": "code",
   "execution_count": 19,
   "id": "d0579363",
   "metadata": {},
   "outputs": [
    {
     "data": {
      "text/plain": [
       "dict"
      ]
     },
     "execution_count": 19,
     "metadata": {},
     "output_type": "execute_result"
    }
   ],
   "source": [
    "type(d2)"
   ]
  },
  {
   "cell_type": "code",
   "execution_count": 20,
   "id": "19140594",
   "metadata": {},
   "outputs": [],
   "source": [
    "d3=dict()"
   ]
  },
  {
   "cell_type": "code",
   "execution_count": 21,
   "id": "e33204ff",
   "metadata": {},
   "outputs": [
    {
     "data": {
      "text/plain": [
       "{}"
      ]
     },
     "execution_count": 21,
     "metadata": {},
     "output_type": "execute_result"
    }
   ],
   "source": [
    "d3"
   ]
  },
  {
   "cell_type": "code",
   "execution_count": 22,
   "id": "d970720b",
   "metadata": {},
   "outputs": [
    {
     "ename": "SyntaxError",
     "evalue": "expression cannot contain assignment, perhaps you meant \"==\"? (2068153004.py, line 1)",
     "output_type": "error",
     "traceback": [
      "\u001b[1;36m  Input \u001b[1;32mIn [22]\u001b[1;36m\u001b[0m\n\u001b[1;33m    d3=dict(103=\"rahul\",105=\"payal\")\u001b[0m\n\u001b[1;37m            ^\u001b[0m\n\u001b[1;31mSyntaxError\u001b[0m\u001b[1;31m:\u001b[0m expression cannot contain assignment, perhaps you meant \"==\"?\n"
     ]
    }
   ],
   "source": [
    "d3=dict(103=\"rahul\",105=\"payal\")"
   ]
  },
  {
   "cell_type": "code",
   "execution_count": 23,
   "id": "198f3b07",
   "metadata": {},
   "outputs": [],
   "source": [
    "d3=dict(r=\"Rahul\",p=\"Payal\")"
   ]
  },
  {
   "cell_type": "code",
   "execution_count": 24,
   "id": "1f2e378d",
   "metadata": {},
   "outputs": [
    {
     "data": {
      "text/plain": [
       "{'r': 'Rahul', 'p': 'Payal'}"
      ]
     },
     "execution_count": 24,
     "metadata": {},
     "output_type": "execute_result"
    }
   ],
   "source": [
    "d3 #keyword is written as string"
   ]
  },
  {
   "cell_type": "markdown",
   "id": "67e34563",
   "metadata": {},
   "source": [
    "### how to access dict object"
   ]
  },
  {
   "cell_type": "code",
   "execution_count": 25,
   "id": "4120b333",
   "metadata": {},
   "outputs": [
    {
     "name": "stdout",
     "output_type": "stream",
     "text": [
      "{102: 'Rahul', 105: 'Payal', 106: 'Arjun', 107: 'prachi'}\n"
     ]
    }
   ],
   "source": [
    "print(d1)"
   ]
  },
  {
   "cell_type": "code",
   "execution_count": 27,
   "id": "e6a5df67",
   "metadata": {},
   "outputs": [
    {
     "data": {
      "text/plain": [
       "'Rahul'"
      ]
     },
     "execution_count": 27,
     "metadata": {},
     "output_type": "execute_result"
    }
   ],
   "source": [
    "d1[102]"
   ]
  },
  {
   "cell_type": "code",
   "execution_count": 28,
   "id": "bb1e6deb",
   "metadata": {},
   "outputs": [
    {
     "data": {
      "text/plain": [
       "'Payal'"
      ]
     },
     "execution_count": 28,
     "metadata": {},
     "output_type": "execute_result"
    }
   ],
   "source": [
    "d1[105]"
   ]
  },
  {
   "cell_type": "code",
   "execution_count": 30,
   "id": "30ac32c7",
   "metadata": {},
   "outputs": [
    {
     "name": "stdout",
     "output_type": "stream",
     "text": [
      "102\n",
      "105\n",
      "106\n",
      "107\n"
     ]
    }
   ],
   "source": [
    "for k in d1:\n",
    "    print(k)\n",
    "    "
   ]
  },
  {
   "cell_type": "code",
   "execution_count": 31,
   "id": "7c6214d3",
   "metadata": {},
   "outputs": [
    {
     "name": "stdout",
     "output_type": "stream",
     "text": [
      "102 {102: 'Rahul', 105: 'Payal', 106: 'Arjun', 107: 'prachi'}\n",
      "105 {102: 'Rahul', 105: 'Payal', 106: 'Arjun', 107: 'prachi'}\n",
      "106 {102: 'Rahul', 105: 'Payal', 106: 'Arjun', 107: 'prachi'}\n",
      "107 {102: 'Rahul', 105: 'Payal', 106: 'Arjun', 107: 'prachi'}\n"
     ]
    }
   ],
   "source": [
    "for e in d1:\n",
    "    print(e,d1)"
   ]
  },
  {
   "cell_type": "code",
   "execution_count": 33,
   "id": "0b179fa4",
   "metadata": {},
   "outputs": [
    {
     "name": "stdout",
     "output_type": "stream",
     "text": [
      "102 Rahul\n",
      "105 Payal\n",
      "106 Arjun\n",
      "107 prachi\n"
     ]
    }
   ],
   "source": [
    "for e in d1:\n",
    "    print(e,d1[e])"
   ]
  },
  {
   "cell_type": "code",
   "execution_count": 34,
   "id": "9e03688a",
   "metadata": {},
   "outputs": [
    {
     "data": {
      "text/plain": [
       "'Rahul'"
      ]
     },
     "execution_count": 34,
     "metadata": {},
     "output_type": "execute_result"
    }
   ],
   "source": [
    "d1[102]"
   ]
  },
  {
   "cell_type": "code",
   "execution_count": 36,
   "id": "b68d493a",
   "metadata": {},
   "outputs": [
    {
     "name": "stdout",
     "output_type": "stream",
     "text": [
      "Rahul Payal Arjun\n"
     ]
    }
   ],
   "source": [
    "print(d1[102],d1[105],d1[106])"
   ]
  },
  {
   "cell_type": "markdown",
   "id": "8bedb5ad",
   "metadata": {},
   "source": [
    "### how to edit dict element"
   ]
  },
  {
   "cell_type": "code",
   "execution_count": 42,
   "id": "174da322",
   "metadata": {},
   "outputs": [],
   "source": [
    "d1[102]=(10,20) # edited dict data-value key can't be edited  "
   ]
  },
  {
   "cell_type": "code",
   "execution_count": 43,
   "id": "341f56c3",
   "metadata": {},
   "outputs": [
    {
     "data": {
      "text/plain": [
       "{102: (10, 20), 105: 'Payal', 106: 'Arjun', 107: 'prachi'}"
      ]
     },
     "execution_count": 43,
     "metadata": {},
     "output_type": "execute_result"
    }
   ],
   "source": [
    "d1"
   ]
  },
  {
   "cell_type": "code",
   "execution_count": 44,
   "id": "4120faee",
   "metadata": {},
   "outputs": [],
   "source": [
    "d1[102]=20"
   ]
  },
  {
   "cell_type": "code",
   "execution_count": 45,
   "id": "52c0af02",
   "metadata": {},
   "outputs": [
    {
     "data": {
      "text/plain": [
       "{102: 20, 105: 'Payal', 106: 'Arjun', 107: 'prachi'}"
      ]
     },
     "execution_count": 45,
     "metadata": {},
     "output_type": "execute_result"
    }
   ],
   "source": [
    "d1"
   ]
  },
  {
   "cell_type": "code",
   "execution_count": 46,
   "id": "420f3741",
   "metadata": {},
   "outputs": [],
   "source": [
    "d1[102]=\"Ravi\""
   ]
  },
  {
   "cell_type": "code",
   "execution_count": 47,
   "id": "9724c952",
   "metadata": {},
   "outputs": [
    {
     "data": {
      "text/plain": [
       "{102: 'Ravi', 105: 'Payal', 106: 'Arjun', 107: 'prachi'}"
      ]
     },
     "execution_count": 47,
     "metadata": {},
     "output_type": "execute_result"
    }
   ],
   "source": [
    "d1"
   ]
  },
  {
   "cell_type": "code",
   "execution_count": 48,
   "id": "6e3e4bc2",
   "metadata": {},
   "outputs": [],
   "source": [
    "d1[103]=\"Suman\" # new element added in dict"
   ]
  },
  {
   "cell_type": "code",
   "execution_count": 49,
   "id": "a9b89a3a",
   "metadata": {},
   "outputs": [
    {
     "data": {
      "text/plain": [
       "{102: 'Ravi', 105: 'Payal', 106: 'Arjun', 107: 'prachi', 103: 'Suman'}"
      ]
     },
     "execution_count": 49,
     "metadata": {},
     "output_type": "execute_result"
    }
   ],
   "source": [
    "d1"
   ]
  },
  {
   "cell_type": "code",
   "execution_count": 53,
   "id": "b6c21d17",
   "metadata": {},
   "outputs": [],
   "source": [
    "del d1[102] # deleting data in dect"
   ]
  },
  {
   "cell_type": "code",
   "execution_count": 54,
   "id": "ef106631",
   "metadata": {},
   "outputs": [
    {
     "data": {
      "text/plain": [
       "{105: 'Payal', 106: 'Arjun', 107: 'prachi', 103: 'Suman'}"
      ]
     },
     "execution_count": 54,
     "metadata": {},
     "output_type": "execute_result"
    }
   ],
   "source": [
    "d1"
   ]
  },
  {
   "cell_type": "markdown",
   "id": "2955a895",
   "metadata": {},
   "source": [
    "### dict objects method"
   ]
  },
  {
   "cell_type": "code",
   "execution_count": 57,
   "id": "9e2646ad",
   "metadata": {},
   "outputs": [],
   "source": [
    "a=d1.keys()"
   ]
  },
  {
   "cell_type": "code",
   "execution_count": 58,
   "id": "1a241f06",
   "metadata": {},
   "outputs": [
    {
     "data": {
      "text/plain": [
       "dict_keys([105, 106, 107, 103])"
      ]
     },
     "execution_count": 58,
     "metadata": {},
     "output_type": "execute_result"
    }
   ],
   "source": [
    "a"
   ]
  },
  {
   "cell_type": "code",
   "execution_count": 59,
   "id": "f5903428",
   "metadata": {},
   "outputs": [
    {
     "data": {
      "text/plain": [
       "dict_keys"
      ]
     },
     "execution_count": 59,
     "metadata": {},
     "output_type": "execute_result"
    }
   ],
   "source": [
    "type(a)"
   ]
  },
  {
   "cell_type": "code",
   "execution_count": 60,
   "id": "bad6958e",
   "metadata": {},
   "outputs": [
    {
     "data": {
      "text/plain": [
       "dict_keys([105, 106, 107, 103])"
      ]
     },
     "execution_count": 60,
     "metadata": {},
     "output_type": "execute_result"
    }
   ],
   "source": [
    "d1.keys()"
   ]
  },
  {
   "cell_type": "code",
   "execution_count": 62,
   "id": "007d6706",
   "metadata": {},
   "outputs": [
    {
     "data": {
      "text/plain": [
       "dict_values(['Payal', 'Arjun', 'prachi', 'Suman'])"
      ]
     },
     "execution_count": 62,
     "metadata": {},
     "output_type": "execute_result"
    }
   ],
   "source": [
    "d1.values()"
   ]
  },
  {
   "cell_type": "code",
   "execution_count": 63,
   "id": "7981b738",
   "metadata": {},
   "outputs": [
    {
     "data": {
      "text/plain": [
       "dict_items([(105, 'Payal'), (106, 'Arjun'), (107, 'prachi'), (103, 'Suman')])"
      ]
     },
     "execution_count": 63,
     "metadata": {},
     "output_type": "execute_result"
    }
   ],
   "source": [
    "d1.items()"
   ]
  },
  {
   "cell_type": "code",
   "execution_count": 65,
   "id": "a064c230",
   "metadata": {},
   "outputs": [
    {
     "name": "stdout",
     "output_type": "stream",
     "text": [
      "105 Payal\n",
      "106 Arjun\n",
      "107 prachi\n",
      "103 Suman\n"
     ]
    }
   ],
   "source": [
    "for t in d1.items():\n",
    "    k=t[0]\n",
    "    d=t[1]\n",
    "    print(k,d)"
   ]
  },
  {
   "cell_type": "code",
   "execution_count": 67,
   "id": "6fbf6541",
   "metadata": {},
   "outputs": [
    {
     "name": "stdout",
     "output_type": "stream",
     "text": [
      "(105, 'Payal')\n",
      "(106, 'Arjun')\n",
      "(107, 'prachi')\n",
      "(103, 'Suman')\n"
     ]
    }
   ],
   "source": [
    "for t in d1.items():\n",
    "    print(t)"
   ]
  },
  {
   "cell_type": "code",
   "execution_count": 69,
   "id": "1fa7acfc",
   "metadata": {},
   "outputs": [
    {
     "name": "stdout",
     "output_type": "stream",
     "text": [
      "105 Payal\n",
      "106 Arjun\n",
      "107 prachi\n",
      "103 Suman\n"
     ]
    }
   ],
   "source": [
    "for t in d1.items():\n",
    "    k,d=t\n",
    "    print(k,d)"
   ]
  },
  {
   "cell_type": "code",
   "execution_count": 70,
   "id": "7f398233",
   "metadata": {},
   "outputs": [
    {
     "name": "stdout",
     "output_type": "stream",
     "text": [
      "105 Payal\n",
      "106 Arjun\n",
      "107 prachi\n",
      "103 Suman\n"
     ]
    }
   ],
   "source": [
    "for k,d in d1.items():\n",
    "    print(k,d)"
   ]
  },
  {
   "cell_type": "markdown",
   "id": "5338fefe",
   "metadata": {},
   "source": [
    "### built in methods"
   ]
  },
  {
   "cell_type": "code",
   "execution_count": 71,
   "id": "ef1e7b21",
   "metadata": {},
   "outputs": [
    {
     "data": {
      "text/plain": [
       "{105: 'Payal', 106: 'Arjun', 107: 'prachi', 103: 'Suman'}"
      ]
     },
     "execution_count": 71,
     "metadata": {},
     "output_type": "execute_result"
    }
   ],
   "source": [
    "d1"
   ]
  },
  {
   "cell_type": "code",
   "execution_count": 72,
   "id": "e51ece0f",
   "metadata": {},
   "outputs": [
    {
     "data": {
      "text/plain": [
       "4"
      ]
     },
     "execution_count": 72,
     "metadata": {},
     "output_type": "execute_result"
    }
   ],
   "source": [
    "len(d1)"
   ]
  },
  {
   "cell_type": "code",
   "execution_count": 73,
   "id": "d3f9d4f1",
   "metadata": {},
   "outputs": [
    {
     "data": {
      "text/plain": [
       "107"
      ]
     },
     "execution_count": 73,
     "metadata": {},
     "output_type": "execute_result"
    }
   ],
   "source": [
    "max(d1) #see only key"
   ]
  },
  {
   "cell_type": "code",
   "execution_count": 74,
   "id": "f6f2622f",
   "metadata": {},
   "outputs": [
    {
     "data": {
      "text/plain": [
       "103"
      ]
     },
     "execution_count": 74,
     "metadata": {},
     "output_type": "execute_result"
    }
   ],
   "source": [
    "min(d1) #see only key"
   ]
  },
  {
   "cell_type": "code",
   "execution_count": 75,
   "id": "61e00ea9",
   "metadata": {},
   "outputs": [
    {
     "data": {
      "text/plain": [
       "421"
      ]
     },
     "execution_count": 75,
     "metadata": {},
     "output_type": "execute_result"
    }
   ],
   "source": [
    "sum(d1) #see only key"
   ]
  },
  {
   "cell_type": "code",
   "execution_count": 76,
   "id": "dd522202",
   "metadata": {},
   "outputs": [
    {
     "data": {
      "text/plain": [
       "[103, 105, 106, 107]"
      ]
     },
     "execution_count": 76,
     "metadata": {},
     "output_type": "execute_result"
    }
   ],
   "source": [
    "sorted(d1)#see only key"
   ]
  },
  {
   "cell_type": "code",
   "execution_count": 86,
   "id": "08d3cc18",
   "metadata": {},
   "outputs": [
    {
     "ename": "NameError",
     "evalue": "name 'b' is not defined",
     "output_type": "error",
     "traceback": [
      "\u001b[1;31m---------------------------------------------------------------------------\u001b[0m",
      "\u001b[1;31mNameError\u001b[0m                                 Traceback (most recent call last)",
      "Input \u001b[1;32mIn [86]\u001b[0m, in \u001b[0;36m<cell line: 1>\u001b[1;34m()\u001b[0m\n\u001b[1;32m----> 1\u001b[0m d2\u001b[38;5;241m=\u001b[39m{a:\u001b[38;5;241m10\u001b[39m,\u001b[43mb\u001b[49m:\u001b[38;5;241m40\u001b[39m,c:\u001b[38;5;241m20\u001b[39m}\n",
      "\u001b[1;31mNameError\u001b[0m: name 'b' is not defined"
     ]
    }
   ],
   "source": [
    "d2={a:10,b:40,c:20} #key should not be variable"
   ]
  },
  {
   "cell_type": "code",
   "execution_count": 96,
   "id": "df9ad955",
   "metadata": {},
   "outputs": [],
   "source": [
    "d2=dict(a=10, b=30, c=20)"
   ]
  },
  {
   "cell_type": "code",
   "execution_count": 97,
   "id": "5cc7cfc3",
   "metadata": {},
   "outputs": [
    {
     "data": {
      "text/plain": [
       "{'a': 10, 'b': 30, 'c': 20}"
      ]
     },
     "execution_count": 97,
     "metadata": {},
     "output_type": "execute_result"
    }
   ],
   "source": [
    "d2"
   ]
  },
  {
   "cell_type": "code",
   "execution_count": 98,
   "id": "77fe74c0",
   "metadata": {},
   "outputs": [],
   "source": [
    "d3={1:100,2:50,3:50}"
   ]
  },
  {
   "cell_type": "code",
   "execution_count": 99,
   "id": "195bcd25",
   "metadata": {},
   "outputs": [],
   "source": [
    "d4={1.1:10,10:40,100:20}"
   ]
  },
  {
   "cell_type": "code",
   "execution_count": 100,
   "id": "bcf1e347",
   "metadata": {},
   "outputs": [
    {
     "data": {
      "text/plain": [
       "{'a': 10, 'b': 30, 'c': 20}"
      ]
     },
     "execution_count": 100,
     "metadata": {},
     "output_type": "execute_result"
    }
   ],
   "source": [
    "d2"
   ]
  },
  {
   "cell_type": "code",
   "execution_count": 101,
   "id": "a748defc",
   "metadata": {},
   "outputs": [
    {
     "data": {
      "text/plain": [
       "3"
      ]
     },
     "execution_count": 101,
     "metadata": {},
     "output_type": "execute_result"
    }
   ],
   "source": [
    "len(d2)"
   ]
  },
  {
   "cell_type": "code",
   "execution_count": 102,
   "id": "b19a1314",
   "metadata": {},
   "outputs": [
    {
     "data": {
      "text/plain": [
       "'c'"
      ]
     },
     "execution_count": 102,
     "metadata": {},
     "output_type": "execute_result"
    }
   ],
   "source": [
    "max(d2)"
   ]
  },
  {
   "cell_type": "code",
   "execution_count": 103,
   "id": "1d33a560",
   "metadata": {},
   "outputs": [
    {
     "data": {
      "text/plain": [
       "'a'"
      ]
     },
     "execution_count": 103,
     "metadata": {},
     "output_type": "execute_result"
    }
   ],
   "source": [
    "min(d2)"
   ]
  },
  {
   "cell_type": "code",
   "execution_count": 104,
   "id": "cb0aa5b2",
   "metadata": {},
   "outputs": [
    {
     "ename": "TypeError",
     "evalue": "unsupported operand type(s) for +: 'int' and 'str'",
     "output_type": "error",
     "traceback": [
      "\u001b[1;31m---------------------------------------------------------------------------\u001b[0m",
      "\u001b[1;31mTypeError\u001b[0m                                 Traceback (most recent call last)",
      "Input \u001b[1;32mIn [104]\u001b[0m, in \u001b[0;36m<cell line: 1>\u001b[1;34m()\u001b[0m\n\u001b[1;32m----> 1\u001b[0m \u001b[38;5;28;43msum\u001b[39;49m\u001b[43m(\u001b[49m\u001b[43md2\u001b[49m\u001b[43m)\u001b[49m\n",
      "\u001b[1;31mTypeError\u001b[0m: unsupported operand type(s) for +: 'int' and 'str'"
     ]
    }
   ],
   "source": [
    "sum(d2)"
   ]
  },
  {
   "cell_type": "code",
   "execution_count": 105,
   "id": "6f72d199",
   "metadata": {},
   "outputs": [
    {
     "data": {
      "text/plain": [
       "['a', 'b', 'c']"
      ]
     },
     "execution_count": 105,
     "metadata": {},
     "output_type": "execute_result"
    }
   ],
   "source": [
    "sorted(d2)"
   ]
  },
  {
   "cell_type": "code",
   "execution_count": 106,
   "id": "0b749d7d",
   "metadata": {},
   "outputs": [],
   "source": [
    "### concatenation and repetition operator"
   ]
  },
  {
   "cell_type": "code",
   "execution_count": 107,
   "id": "8b9a7a30",
   "metadata": {},
   "outputs": [
    {
     "ename": "TypeError",
     "evalue": "unsupported operand type(s) for +: 'dict' and 'dict'",
     "output_type": "error",
     "traceback": [
      "\u001b[1;31m---------------------------------------------------------------------------\u001b[0m",
      "\u001b[1;31mTypeError\u001b[0m                                 Traceback (most recent call last)",
      "Input \u001b[1;32mIn [107]\u001b[0m, in \u001b[0;36m<cell line: 1>\u001b[1;34m()\u001b[0m\n\u001b[1;32m----> 1\u001b[0m \u001b[43md1\u001b[49m\u001b[38;5;241;43m+\u001b[39;49m\u001b[43md2\u001b[49m\n",
      "\u001b[1;31mTypeError\u001b[0m: unsupported operand type(s) for +: 'dict' and 'dict'"
     ]
    }
   ],
   "source": [
    "d1+d2 # not supported"
   ]
  },
  {
   "cell_type": "code",
   "execution_count": 109,
   "id": "9ee2c6b9",
   "metadata": {},
   "outputs": [
    {
     "ename": "TypeError",
     "evalue": "unsupported operand type(s) for *: 'dict' and 'int'",
     "output_type": "error",
     "traceback": [
      "\u001b[1;31m---------------------------------------------------------------------------\u001b[0m",
      "\u001b[1;31mTypeError\u001b[0m                                 Traceback (most recent call last)",
      "Input \u001b[1;32mIn [109]\u001b[0m, in \u001b[0;36m<cell line: 1>\u001b[1;34m()\u001b[0m\n\u001b[1;32m----> 1\u001b[0m \u001b[43md2\u001b[49m\u001b[38;5;241;43m*\u001b[39;49m\u001b[38;5;241;43m1\u001b[39;49m\n",
      "\u001b[1;31mTypeError\u001b[0m: unsupported operand type(s) for *: 'dict' and 'int'"
     ]
    }
   ],
   "source": [
    "d2*1 # not supported"
   ]
  },
  {
   "cell_type": "markdown",
   "id": "af0e308a",
   "metadata": {},
   "source": [
    "### comparision operator"
   ]
  },
  {
   "cell_type": "code",
   "execution_count": 110,
   "id": "3f7aa074",
   "metadata": {},
   "outputs": [
    {
     "data": {
      "text/plain": [
       "{1: 100, 2: 50, 3: 50}"
      ]
     },
     "execution_count": 110,
     "metadata": {},
     "output_type": "execute_result"
    }
   ],
   "source": [
    "d3"
   ]
  },
  {
   "cell_type": "code",
   "execution_count": 111,
   "id": "14c34817",
   "metadata": {},
   "outputs": [],
   "source": [
    "d4={2:50,1:100,3:50}"
   ]
  },
  {
   "cell_type": "code",
   "execution_count": 112,
   "id": "9e6ca07a",
   "metadata": {},
   "outputs": [
    {
     "data": {
      "text/plain": [
       "{2: 50, 1: 100, 3: 50}"
      ]
     },
     "execution_count": 112,
     "metadata": {},
     "output_type": "execute_result"
    }
   ],
   "source": [
    "d4"
   ]
  },
  {
   "cell_type": "code",
   "execution_count": 113,
   "id": "9714aa18",
   "metadata": {},
   "outputs": [
    {
     "data": {
      "text/plain": [
       "True"
      ]
     },
     "execution_count": 113,
     "metadata": {},
     "output_type": "execute_result"
    }
   ],
   "source": [
    "d3==d4 #order not neccessary item should be equal"
   ]
  },
  {
   "cell_type": "code",
   "execution_count": 115,
   "id": "ea595881",
   "metadata": {},
   "outputs": [
    {
     "data": {
      "text/plain": [
       "False"
      ]
     },
     "execution_count": 115,
     "metadata": {},
     "output_type": "execute_result"
    }
   ],
   "source": [
    "d3!=d4"
   ]
  },
  {
   "cell_type": "code",
   "execution_count": 117,
   "id": "b3ffb187",
   "metadata": {},
   "outputs": [
    {
     "ename": "TypeError",
     "evalue": "'>' not supported between instances of 'dict' and 'dict'",
     "output_type": "error",
     "traceback": [
      "\u001b[1;31m---------------------------------------------------------------------------\u001b[0m",
      "\u001b[1;31mTypeError\u001b[0m                                 Traceback (most recent call last)",
      "Input \u001b[1;32mIn [117]\u001b[0m, in \u001b[0;36m<cell line: 1>\u001b[1;34m()\u001b[0m\n\u001b[1;32m----> 1\u001b[0m \u001b[43md3\u001b[49m\u001b[38;5;241;43m>\u001b[39;49m\u001b[43md4\u001b[49m\n",
      "\u001b[1;31mTypeError\u001b[0m: '>' not supported between instances of 'dict' and 'dict'"
     ]
    }
   ],
   "source": [
    "d3>d4#d3>d4 or d4>d3 not supported"
   ]
  },
  {
   "cell_type": "code",
   "execution_count": 119,
   "id": "cfa56de8",
   "metadata": {},
   "outputs": [
    {
     "ename": "TypeError",
     "evalue": "'>=' not supported between instances of 'dict' and 'dict'",
     "output_type": "error",
     "traceback": [
      "\u001b[1;31m---------------------------------------------------------------------------\u001b[0m",
      "\u001b[1;31mTypeError\u001b[0m                                 Traceback (most recent call last)",
      "Input \u001b[1;32mIn [119]\u001b[0m, in \u001b[0;36m<cell line: 1>\u001b[1;34m()\u001b[0m\n\u001b[1;32m----> 1\u001b[0m \u001b[43md3\u001b[49m\u001b[38;5;241;43m>\u001b[39;49m\u001b[38;5;241;43m=\u001b[39;49m\u001b[43md4\u001b[49m\n",
      "\u001b[1;31mTypeError\u001b[0m: '>=' not supported between instances of 'dict' and 'dict'"
     ]
    }
   ],
   "source": [
    "d3>=d4 # d3>=d4 or d3<=d4 not supported"
   ]
  },
  {
   "cell_type": "markdown",
   "id": "b3fedc67",
   "metadata": {},
   "source": [
    "### dict object method"
   ]
  },
  {
   "cell_type": "code",
   "execution_count": 120,
   "id": "0023a841",
   "metadata": {},
   "outputs": [
    {
     "data": {
      "text/plain": [
       "{105: 'Payal', 106: 'Arjun', 107: 'prachi', 103: 'Suman'}"
      ]
     },
     "execution_count": 120,
     "metadata": {},
     "output_type": "execute_result"
    }
   ],
   "source": [
    "d1"
   ]
  },
  {
   "cell_type": "code",
   "execution_count": 121,
   "id": "ff3b5ac5",
   "metadata": {},
   "outputs": [
    {
     "data": {
      "text/plain": [
       "'Arjun'"
      ]
     },
     "execution_count": 121,
     "metadata": {},
     "output_type": "execute_result"
    }
   ],
   "source": [
    "d1.pop(106) #106 key and data removed from d1"
   ]
  },
  {
   "cell_type": "code",
   "execution_count": 122,
   "id": "3b9da9ef",
   "metadata": {},
   "outputs": [
    {
     "data": {
      "text/plain": [
       "{105: 'Payal', 107: 'prachi', 103: 'Suman'}"
      ]
     },
     "execution_count": 122,
     "metadata": {},
     "output_type": "execute_result"
    }
   ],
   "source": [
    "d1"
   ]
  },
  {
   "cell_type": "code",
   "execution_count": 123,
   "id": "7cd55f79",
   "metadata": {},
   "outputs": [
    {
     "data": {
      "text/plain": [
       "(103, 'Suman')"
      ]
     },
     "execution_count": 123,
     "metadata": {},
     "output_type": "execute_result"
    }
   ],
   "source": [
    "d1.popitem() #last item is deleted"
   ]
  },
  {
   "cell_type": "code",
   "execution_count": 124,
   "id": "1ddd89c4",
   "metadata": {},
   "outputs": [
    {
     "data": {
      "text/plain": [
       "{105: 'Payal', 107: 'prachi'}"
      ]
     },
     "execution_count": 124,
     "metadata": {},
     "output_type": "execute_result"
    }
   ],
   "source": [
    "d1"
   ]
  },
  {
   "cell_type": "code",
   "execution_count": 125,
   "id": "bd3f9c11",
   "metadata": {},
   "outputs": [
    {
     "data": {
      "text/plain": [
       "{'a': 10, 'b': 30, 'c': 20}"
      ]
     },
     "execution_count": 125,
     "metadata": {},
     "output_type": "execute_result"
    }
   ],
   "source": [
    "d2"
   ]
  },
  {
   "cell_type": "code",
   "execution_count": 126,
   "id": "cba3a6a8",
   "metadata": {},
   "outputs": [],
   "source": [
    "d2.clear() #whole dict is cleared ie., empty dict"
   ]
  },
  {
   "cell_type": "code",
   "execution_count": 127,
   "id": "43a6886a",
   "metadata": {},
   "outputs": [
    {
     "data": {
      "text/plain": [
       "{}"
      ]
     },
     "execution_count": 127,
     "metadata": {},
     "output_type": "execute_result"
    }
   ],
   "source": [
    "d2"
   ]
  },
  {
   "cell_type": "markdown",
   "id": "d16d7227",
   "metadata": {},
   "source": [
    "### dict comprehension"
   ]
  },
  {
   "cell_type": "code",
   "execution_count": 128,
   "id": "0b6970bf",
   "metadata": {},
   "outputs": [],
   "source": [
    "# d1={key-expression:data-expression for v in seq}\n",
    "d1={a:a**2 for a in range(1,8,1)}"
   ]
  },
  {
   "cell_type": "code",
   "execution_count": 129,
   "id": "71cb8e36",
   "metadata": {},
   "outputs": [
    {
     "data": {
      "text/plain": [
       "{1: 1, 2: 4, 3: 9, 4: 16, 5: 25, 6: 36, 7: 49}"
      ]
     },
     "execution_count": 129,
     "metadata": {},
     "output_type": "execute_result"
    }
   ],
   "source": [
    "d1"
   ]
  },
  {
   "cell_type": "code",
   "execution_count": null,
   "id": "ea2bf5a2",
   "metadata": {},
   "outputs": [],
   "source": []
  }
 ],
 "metadata": {
  "kernelspec": {
   "display_name": "Python 3 (ipykernel)",
   "language": "python",
   "name": "python3"
  },
  "language_info": {
   "codemirror_mode": {
    "name": "ipython",
    "version": 3
   },
   "file_extension": ".py",
   "mimetype": "text/x-python",
   "name": "python",
   "nbconvert_exporter": "python",
   "pygments_lexer": "ipython3",
   "version": "3.9.12"
  }
 },
 "nbformat": 4,
 "nbformat_minor": 5
}
