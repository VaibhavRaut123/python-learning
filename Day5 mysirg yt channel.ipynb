{
 "cells": [
  {
   "cell_type": "markdown",
   "id": "70f00186",
   "metadata": {},
   "source": [
    "### Loop"
   ]
  },
  {
   "cell_type": "code",
   "execution_count": 2,
   "id": "5dd9ed3d",
   "metadata": {},
   "outputs": [
    {
     "name": "stdout",
     "output_type": "stream",
     "text": [
      "MySirG\n",
      "MySirG\n",
      "MySirG\n",
      "MySirG\n",
      "MySirG\n"
     ]
    }
   ],
   "source": [
    "# print mysirg five times\n",
    "i=1\n",
    "while i<=5 :\n",
    "    print(\"MySirG\")\n",
    "    i+=1"
   ]
  },
  {
   "cell_type": "code",
   "execution_count": 4,
   "id": "99837f36",
   "metadata": {},
   "outputs": [
    {
     "name": "stdout",
     "output_type": "stream",
     "text": [
      "enter a num 10\n",
      "1\n",
      "2\n",
      "3\n",
      "4\n",
      "5\n",
      "6\n",
      "7\n",
      "8\n",
      "9\n",
      "10\n"
     ]
    }
   ],
   "source": [
    "# write a programme to print first N natural numbers\n",
    "x=int(input(\"enter a num \"))  \n",
    "i=1\n",
    "while i<=x :\n",
    "    print(i)\n",
    "    i+=1"
   ]
  },
  {
   "cell_type": "code",
   "execution_count": 9,
   "id": "7b913cf0",
   "metadata": {
    "scrolled": true
   },
   "outputs": [
    {
     "name": "stdout",
     "output_type": "stream",
     "text": [
      "enter a number 10\n",
      "1 2 3 4 5 6 7 8 9 10 "
     ]
    }
   ],
   "source": [
    "x = int(input(\"enter a number \"))\n",
    "i=1\n",
    "while i<=x : \n",
    "    print(i, end=\" \")\n",
    "    i+=1"
   ]
  },
  {
   "cell_type": "code",
   "execution_count": 12,
   "id": "3ee92f19",
   "metadata": {},
   "outputs": [
    {
     "name": "stdout",
     "output_type": "stream",
     "text": [
      " enter a number 5\n",
      "sum is 1\n",
      "sum is 3\n",
      "sum is 6\n",
      "sum is 10\n",
      "sum is 15\n"
     ]
    }
   ],
   "source": [
    "# write a programme to calculate sum of first N natural numbers\n",
    "x = int(input(\" enter a number \"))\n",
    "i=1\n",
    "s=0\n",
    "while i<=x :\n",
    "    s=s+i\n",
    "    i+=1\n",
    "    print(\"sum is\",s)\n",
    "    "
   ]
  },
  {
   "cell_type": "code",
   "execution_count": 14,
   "id": "46d51e62",
   "metadata": {},
   "outputs": [
    {
     "name": "stdout",
     "output_type": "stream",
     "text": [
      "enter a number5\n",
      "sum is 15\n"
     ]
    }
   ],
   "source": [
    "x = int(input(\"enter a number\"))\n",
    "i=1\n",
    "s=0\n",
    "while i<=x :\n",
    "    s=s+i\n",
    "    i+=1\n",
    "print(\"sum is\", s)"
   ]
  },
  {
   "cell_type": "code",
   "execution_count": null,
   "id": "e63ef290",
   "metadata": {},
   "outputs": [],
   "source": []
  }
 ],
 "metadata": {
  "kernelspec": {
   "display_name": "Python 3 (ipykernel)",
   "language": "python",
   "name": "python3"
  },
  "language_info": {
   "codemirror_mode": {
    "name": "ipython",
    "version": 3
   },
   "file_extension": ".py",
   "mimetype": "text/x-python",
   "name": "python",
   "nbconvert_exporter": "python",
   "pygments_lexer": "ipython3",
   "version": "3.9.12"
  }
 },
 "nbformat": 4,
 "nbformat_minor": 5
}
